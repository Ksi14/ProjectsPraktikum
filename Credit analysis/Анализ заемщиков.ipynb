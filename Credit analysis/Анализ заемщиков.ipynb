{
 "cells": [
  {
   "cell_type": "markdown",
   "metadata": {},
   "source": [
    "# Исследование надёжности заёмщиков\n",
    "\n",
    "Имеется информация о заемщиках банка, включающая в себя следующие данные: \n",
    "- количество детей в семье\n",
    "- общий трудовой стаж в днях\n",
    "- возраст клиента в годах\n",
    "- уровень образования клиента\n",
    "- идентификатор уровня образования\n",
    "- семейное положение\n",
    "- идентификатор семейного положения\n",
    "- пол клиента\n",
    "- тип занятости\n",
    "- имел ли задолженность по возврату кредитов\n",
    "- ежемесячный доход\n",
    "- цель получения кредита \n",
    "\n",
    "Требуется проанализировать данные и выявить факторы, наиболее влияющие на возврат кредита в срок, а также \"нарисовать\" портрет типичного хорошего заемщика."
   ]
  },
  {
   "cell_type": "markdown",
   "metadata": {},
   "source": [
    "## Изучение данных "
   ]
  },
  {
   "cell_type": "code",
   "execution_count": 1,
   "metadata": {},
   "outputs": [
    {
     "name": "stdout",
     "output_type": "stream",
     "text": [
      "<class 'pandas.core.frame.DataFrame'>\n",
      "RangeIndex: 21525 entries, 0 to 21524\n",
      "Data columns (total 12 columns):\n",
      "children            21525 non-null int64\n",
      "days_employed       19351 non-null float64\n",
      "dob_years           21525 non-null int64\n",
      "education           21525 non-null object\n",
      "education_id        21525 non-null int64\n",
      "family_status       21525 non-null object\n",
      "family_status_id    21525 non-null int64\n",
      "gender              21525 non-null object\n",
      "income_type         21525 non-null object\n",
      "debt                21525 non-null int64\n",
      "total_income        19351 non-null float64\n",
      "purpose             21525 non-null object\n",
      "dtypes: float64(2), int64(5), object(5)\n",
      "memory usage: 2.0+ MB\n"
     ]
    },
    {
     "data": {
      "text/html": [
       "<div>\n",
       "<style scoped>\n",
       "    .dataframe tbody tr th:only-of-type {\n",
       "        vertical-align: middle;\n",
       "    }\n",
       "\n",
       "    .dataframe tbody tr th {\n",
       "        vertical-align: top;\n",
       "    }\n",
       "\n",
       "    .dataframe thead th {\n",
       "        text-align: right;\n",
       "    }\n",
       "</style>\n",
       "<table border=\"1\" class=\"dataframe\">\n",
       "  <thead>\n",
       "    <tr style=\"text-align: right;\">\n",
       "      <th></th>\n",
       "      <th>children</th>\n",
       "      <th>days_employed</th>\n",
       "      <th>dob_years</th>\n",
       "      <th>education</th>\n",
       "      <th>education_id</th>\n",
       "      <th>family_status</th>\n",
       "      <th>family_status_id</th>\n",
       "      <th>gender</th>\n",
       "      <th>income_type</th>\n",
       "      <th>debt</th>\n",
       "      <th>total_income</th>\n",
       "      <th>purpose</th>\n",
       "    </tr>\n",
       "  </thead>\n",
       "  <tbody>\n",
       "    <tr>\n",
       "      <td>0</td>\n",
       "      <td>1</td>\n",
       "      <td>-8437.673028</td>\n",
       "      <td>42</td>\n",
       "      <td>высшее</td>\n",
       "      <td>0</td>\n",
       "      <td>женат / замужем</td>\n",
       "      <td>0</td>\n",
       "      <td>F</td>\n",
       "      <td>сотрудник</td>\n",
       "      <td>0</td>\n",
       "      <td>253875.639453</td>\n",
       "      <td>покупка жилья</td>\n",
       "    </tr>\n",
       "    <tr>\n",
       "      <td>1</td>\n",
       "      <td>1</td>\n",
       "      <td>-4024.803754</td>\n",
       "      <td>36</td>\n",
       "      <td>среднее</td>\n",
       "      <td>1</td>\n",
       "      <td>женат / замужем</td>\n",
       "      <td>0</td>\n",
       "      <td>F</td>\n",
       "      <td>сотрудник</td>\n",
       "      <td>0</td>\n",
       "      <td>112080.014102</td>\n",
       "      <td>приобретение автомобиля</td>\n",
       "    </tr>\n",
       "    <tr>\n",
       "      <td>2</td>\n",
       "      <td>0</td>\n",
       "      <td>-5623.422610</td>\n",
       "      <td>33</td>\n",
       "      <td>Среднее</td>\n",
       "      <td>1</td>\n",
       "      <td>женат / замужем</td>\n",
       "      <td>0</td>\n",
       "      <td>M</td>\n",
       "      <td>сотрудник</td>\n",
       "      <td>0</td>\n",
       "      <td>145885.952297</td>\n",
       "      <td>покупка жилья</td>\n",
       "    </tr>\n",
       "    <tr>\n",
       "      <td>3</td>\n",
       "      <td>3</td>\n",
       "      <td>-4124.747207</td>\n",
       "      <td>32</td>\n",
       "      <td>среднее</td>\n",
       "      <td>1</td>\n",
       "      <td>женат / замужем</td>\n",
       "      <td>0</td>\n",
       "      <td>M</td>\n",
       "      <td>сотрудник</td>\n",
       "      <td>0</td>\n",
       "      <td>267628.550329</td>\n",
       "      <td>дополнительное образование</td>\n",
       "    </tr>\n",
       "    <tr>\n",
       "      <td>4</td>\n",
       "      <td>0</td>\n",
       "      <td>340266.072047</td>\n",
       "      <td>53</td>\n",
       "      <td>среднее</td>\n",
       "      <td>1</td>\n",
       "      <td>гражданский брак</td>\n",
       "      <td>1</td>\n",
       "      <td>F</td>\n",
       "      <td>пенсионер</td>\n",
       "      <td>0</td>\n",
       "      <td>158616.077870</td>\n",
       "      <td>сыграть свадьбу</td>\n",
       "    </tr>\n",
       "    <tr>\n",
       "      <td>5</td>\n",
       "      <td>0</td>\n",
       "      <td>-926.185831</td>\n",
       "      <td>27</td>\n",
       "      <td>высшее</td>\n",
       "      <td>0</td>\n",
       "      <td>гражданский брак</td>\n",
       "      <td>1</td>\n",
       "      <td>M</td>\n",
       "      <td>компаньон</td>\n",
       "      <td>0</td>\n",
       "      <td>255763.565419</td>\n",
       "      <td>покупка жилья</td>\n",
       "    </tr>\n",
       "    <tr>\n",
       "      <td>6</td>\n",
       "      <td>0</td>\n",
       "      <td>-2879.202052</td>\n",
       "      <td>43</td>\n",
       "      <td>высшее</td>\n",
       "      <td>0</td>\n",
       "      <td>женат / замужем</td>\n",
       "      <td>0</td>\n",
       "      <td>F</td>\n",
       "      <td>компаньон</td>\n",
       "      <td>0</td>\n",
       "      <td>240525.971920</td>\n",
       "      <td>операции с жильем</td>\n",
       "    </tr>\n",
       "    <tr>\n",
       "      <td>7</td>\n",
       "      <td>0</td>\n",
       "      <td>-152.779569</td>\n",
       "      <td>50</td>\n",
       "      <td>СРЕДНЕЕ</td>\n",
       "      <td>1</td>\n",
       "      <td>женат / замужем</td>\n",
       "      <td>0</td>\n",
       "      <td>M</td>\n",
       "      <td>сотрудник</td>\n",
       "      <td>0</td>\n",
       "      <td>135823.934197</td>\n",
       "      <td>образование</td>\n",
       "    </tr>\n",
       "    <tr>\n",
       "      <td>8</td>\n",
       "      <td>2</td>\n",
       "      <td>-6929.865299</td>\n",
       "      <td>35</td>\n",
       "      <td>ВЫСШЕЕ</td>\n",
       "      <td>0</td>\n",
       "      <td>гражданский брак</td>\n",
       "      <td>1</td>\n",
       "      <td>F</td>\n",
       "      <td>сотрудник</td>\n",
       "      <td>0</td>\n",
       "      <td>95856.832424</td>\n",
       "      <td>на проведение свадьбы</td>\n",
       "    </tr>\n",
       "    <tr>\n",
       "      <td>9</td>\n",
       "      <td>0</td>\n",
       "      <td>-2188.756445</td>\n",
       "      <td>41</td>\n",
       "      <td>среднее</td>\n",
       "      <td>1</td>\n",
       "      <td>женат / замужем</td>\n",
       "      <td>0</td>\n",
       "      <td>M</td>\n",
       "      <td>сотрудник</td>\n",
       "      <td>0</td>\n",
       "      <td>144425.938277</td>\n",
       "      <td>покупка жилья для семьи</td>\n",
       "    </tr>\n",
       "  </tbody>\n",
       "</table>\n",
       "</div>"
      ],
      "text/plain": [
       "   children  days_employed  dob_years education  education_id  \\\n",
       "0         1   -8437.673028         42    высшее             0   \n",
       "1         1   -4024.803754         36   среднее             1   \n",
       "2         0   -5623.422610         33   Среднее             1   \n",
       "3         3   -4124.747207         32   среднее             1   \n",
       "4         0  340266.072047         53   среднее             1   \n",
       "5         0    -926.185831         27    высшее             0   \n",
       "6         0   -2879.202052         43    высшее             0   \n",
       "7         0    -152.779569         50   СРЕДНЕЕ             1   \n",
       "8         2   -6929.865299         35    ВЫСШЕЕ             0   \n",
       "9         0   -2188.756445         41   среднее             1   \n",
       "\n",
       "      family_status  family_status_id gender income_type  debt   total_income  \\\n",
       "0   женат / замужем                 0      F   сотрудник     0  253875.639453   \n",
       "1   женат / замужем                 0      F   сотрудник     0  112080.014102   \n",
       "2   женат / замужем                 0      M   сотрудник     0  145885.952297   \n",
       "3   женат / замужем                 0      M   сотрудник     0  267628.550329   \n",
       "4  гражданский брак                 1      F   пенсионер     0  158616.077870   \n",
       "5  гражданский брак                 1      M   компаньон     0  255763.565419   \n",
       "6   женат / замужем                 0      F   компаньон     0  240525.971920   \n",
       "7   женат / замужем                 0      M   сотрудник     0  135823.934197   \n",
       "8  гражданский брак                 1      F   сотрудник     0   95856.832424   \n",
       "9   женат / замужем                 0      M   сотрудник     0  144425.938277   \n",
       "\n",
       "                      purpose  \n",
       "0               покупка жилья  \n",
       "1     приобретение автомобиля  \n",
       "2               покупка жилья  \n",
       "3  дополнительное образование  \n",
       "4             сыграть свадьбу  \n",
       "5               покупка жилья  \n",
       "6           операции с жильем  \n",
       "7                 образование  \n",
       "8       на проведение свадьбы  \n",
       "9     покупка жилья для семьи  "
      ]
     },
     "execution_count": 1,
     "metadata": {},
     "output_type": "execute_result"
    }
   ],
   "source": [
    "import pandas as pd\n",
    "from pymystem3 import Mystem\n",
    "m = Mystem()\n",
    "from collections import Counter\n",
    "import numpy as np\n",
    "data = pd.read_csv('/datasets/data.csv')\n",
    "data.info()\n",
    "data.head(10)"
   ]
  },
  {
   "cell_type": "raw",
   "metadata": {},
   "source": [
    "В таблице 21 525 строк.\n",
    "\n",
    "Есть пропуски в столбцах days_employed (трудовой стаж) и total_income (ежемесячный доход), пропущено 2174 значения из 19351, оба столбца с количественными переменными. Есть очень большое значение (340266) в столбце days_employed, кто то работал больше 930 лет при возрасте в 53 года! Так же отрицательные значения в этом столбце скорее всего правильные, просто надо минус убрать, в реальной жизни уточнила бы этот вопрос у поставщика данных. \n",
    "\n",
    "Пропуски в столбце с ежемесячным доходом - это не норма, если невозможно эти данные получить дополнительно, то лучше удалить строки с пропусками в этом столбце.\n",
    "\n",
    "Данные в столбце purpose надо привести к единому стандарту.\n",
    "\n",
    "В столбце education сделать все буквы маленькими.  "
   ]
  },
  {
   "cell_type": "markdown",
   "metadata": {},
   "source": [
    "## Предобработка данных"
   ]
  },
  {
   "cell_type": "code",
   "execution_count": 2,
   "metadata": {},
   "outputs": [],
   "source": [
    "# переведем отрицательные значения трудового стажа в положительные\n",
    "\n",
    "data['days_employed'] = data['days_employed'].apply(abs) "
   ]
  },
  {
   "cell_type": "code",
   "execution_count": 3,
   "metadata": {},
   "outputs": [],
   "source": [
    "# переведем все данные об образовании в нижний регистр\n",
    "\n",
    "data['education'] = data['education'].str.lower()"
   ]
  },
  {
   "cell_type": "code",
   "execution_count": 4,
   "metadata": {},
   "outputs": [
    {
     "data": {
      "text/plain": [
       "71"
      ]
     },
     "execution_count": 4,
     "metadata": {},
     "output_type": "execute_result"
    }
   ],
   "source": [
    "# проверим на наличие дубликатов\n",
    "\n",
    "data.duplicated().sum()"
   ]
  },
  {
   "cell_type": "code",
   "execution_count": 5,
   "metadata": {},
   "outputs": [
    {
     "data": {
      "text/html": [
       "<div>\n",
       "<style scoped>\n",
       "    .dataframe tbody tr th:only-of-type {\n",
       "        vertical-align: middle;\n",
       "    }\n",
       "\n",
       "    .dataframe tbody tr th {\n",
       "        vertical-align: top;\n",
       "    }\n",
       "\n",
       "    .dataframe thead th {\n",
       "        text-align: right;\n",
       "    }\n",
       "</style>\n",
       "<table border=\"1\" class=\"dataframe\">\n",
       "  <thead>\n",
       "    <tr style=\"text-align: right;\">\n",
       "      <th></th>\n",
       "      <th>children</th>\n",
       "      <th>days_employed</th>\n",
       "      <th>dob_years</th>\n",
       "      <th>education</th>\n",
       "      <th>education_id</th>\n",
       "      <th>family_status</th>\n",
       "      <th>family_status_id</th>\n",
       "      <th>gender</th>\n",
       "      <th>income_type</th>\n",
       "      <th>debt</th>\n",
       "      <th>total_income</th>\n",
       "      <th>purpose</th>\n",
       "    </tr>\n",
       "  </thead>\n",
       "  <tbody>\n",
       "    <tr>\n",
       "      <td>2849</td>\n",
       "      <td>0</td>\n",
       "      <td>NaN</td>\n",
       "      <td>41</td>\n",
       "      <td>среднее</td>\n",
       "      <td>1</td>\n",
       "      <td>женат / замужем</td>\n",
       "      <td>0</td>\n",
       "      <td>F</td>\n",
       "      <td>сотрудник</td>\n",
       "      <td>0</td>\n",
       "      <td>NaN</td>\n",
       "      <td>покупка жилья для семьи</td>\n",
       "    </tr>\n",
       "    <tr>\n",
       "      <td>3290</td>\n",
       "      <td>0</td>\n",
       "      <td>NaN</td>\n",
       "      <td>58</td>\n",
       "      <td>среднее</td>\n",
       "      <td>1</td>\n",
       "      <td>гражданский брак</td>\n",
       "      <td>1</td>\n",
       "      <td>F</td>\n",
       "      <td>пенсионер</td>\n",
       "      <td>0</td>\n",
       "      <td>NaN</td>\n",
       "      <td>сыграть свадьбу</td>\n",
       "    </tr>\n",
       "    <tr>\n",
       "      <td>4182</td>\n",
       "      <td>1</td>\n",
       "      <td>NaN</td>\n",
       "      <td>34</td>\n",
       "      <td>высшее</td>\n",
       "      <td>0</td>\n",
       "      <td>гражданский брак</td>\n",
       "      <td>1</td>\n",
       "      <td>F</td>\n",
       "      <td>сотрудник</td>\n",
       "      <td>0</td>\n",
       "      <td>NaN</td>\n",
       "      <td>свадьба</td>\n",
       "    </tr>\n",
       "    <tr>\n",
       "      <td>4851</td>\n",
       "      <td>0</td>\n",
       "      <td>NaN</td>\n",
       "      <td>60</td>\n",
       "      <td>среднее</td>\n",
       "      <td>1</td>\n",
       "      <td>гражданский брак</td>\n",
       "      <td>1</td>\n",
       "      <td>F</td>\n",
       "      <td>пенсионер</td>\n",
       "      <td>0</td>\n",
       "      <td>NaN</td>\n",
       "      <td>свадьба</td>\n",
       "    </tr>\n",
       "    <tr>\n",
       "      <td>5557</td>\n",
       "      <td>0</td>\n",
       "      <td>NaN</td>\n",
       "      <td>58</td>\n",
       "      <td>среднее</td>\n",
       "      <td>1</td>\n",
       "      <td>гражданский брак</td>\n",
       "      <td>1</td>\n",
       "      <td>F</td>\n",
       "      <td>пенсионер</td>\n",
       "      <td>0</td>\n",
       "      <td>NaN</td>\n",
       "      <td>сыграть свадьбу</td>\n",
       "    </tr>\n",
       "    <tr>\n",
       "      <td>...</td>\n",
       "      <td>...</td>\n",
       "      <td>...</td>\n",
       "      <td>...</td>\n",
       "      <td>...</td>\n",
       "      <td>...</td>\n",
       "      <td>...</td>\n",
       "      <td>...</td>\n",
       "      <td>...</td>\n",
       "      <td>...</td>\n",
       "      <td>...</td>\n",
       "      <td>...</td>\n",
       "      <td>...</td>\n",
       "    </tr>\n",
       "    <tr>\n",
       "      <td>20702</td>\n",
       "      <td>0</td>\n",
       "      <td>NaN</td>\n",
       "      <td>64</td>\n",
       "      <td>среднее</td>\n",
       "      <td>1</td>\n",
       "      <td>женат / замужем</td>\n",
       "      <td>0</td>\n",
       "      <td>F</td>\n",
       "      <td>пенсионер</td>\n",
       "      <td>0</td>\n",
       "      <td>NaN</td>\n",
       "      <td>дополнительное образование</td>\n",
       "    </tr>\n",
       "    <tr>\n",
       "      <td>21032</td>\n",
       "      <td>0</td>\n",
       "      <td>NaN</td>\n",
       "      <td>60</td>\n",
       "      <td>среднее</td>\n",
       "      <td>1</td>\n",
       "      <td>женат / замужем</td>\n",
       "      <td>0</td>\n",
       "      <td>F</td>\n",
       "      <td>пенсионер</td>\n",
       "      <td>0</td>\n",
       "      <td>NaN</td>\n",
       "      <td>заняться образованием</td>\n",
       "    </tr>\n",
       "    <tr>\n",
       "      <td>21132</td>\n",
       "      <td>0</td>\n",
       "      <td>NaN</td>\n",
       "      <td>47</td>\n",
       "      <td>среднее</td>\n",
       "      <td>1</td>\n",
       "      <td>женат / замужем</td>\n",
       "      <td>0</td>\n",
       "      <td>F</td>\n",
       "      <td>сотрудник</td>\n",
       "      <td>0</td>\n",
       "      <td>NaN</td>\n",
       "      <td>ремонт жилью</td>\n",
       "    </tr>\n",
       "    <tr>\n",
       "      <td>21281</td>\n",
       "      <td>1</td>\n",
       "      <td>NaN</td>\n",
       "      <td>30</td>\n",
       "      <td>высшее</td>\n",
       "      <td>0</td>\n",
       "      <td>женат / замужем</td>\n",
       "      <td>0</td>\n",
       "      <td>F</td>\n",
       "      <td>сотрудник</td>\n",
       "      <td>0</td>\n",
       "      <td>NaN</td>\n",
       "      <td>покупка коммерческой недвижимости</td>\n",
       "    </tr>\n",
       "    <tr>\n",
       "      <td>21415</td>\n",
       "      <td>0</td>\n",
       "      <td>NaN</td>\n",
       "      <td>54</td>\n",
       "      <td>среднее</td>\n",
       "      <td>1</td>\n",
       "      <td>женат / замужем</td>\n",
       "      <td>0</td>\n",
       "      <td>F</td>\n",
       "      <td>пенсионер</td>\n",
       "      <td>0</td>\n",
       "      <td>NaN</td>\n",
       "      <td>операции с жильем</td>\n",
       "    </tr>\n",
       "  </tbody>\n",
       "</table>\n",
       "<p>71 rows × 12 columns</p>\n",
       "</div>"
      ],
      "text/plain": [
       "       children  days_employed  dob_years education  education_id  \\\n",
       "2849          0            NaN         41   среднее             1   \n",
       "3290          0            NaN         58   среднее             1   \n",
       "4182          1            NaN         34    высшее             0   \n",
       "4851          0            NaN         60   среднее             1   \n",
       "5557          0            NaN         58   среднее             1   \n",
       "...         ...            ...        ...       ...           ...   \n",
       "20702         0            NaN         64   среднее             1   \n",
       "21032         0            NaN         60   среднее             1   \n",
       "21132         0            NaN         47   среднее             1   \n",
       "21281         1            NaN         30    высшее             0   \n",
       "21415         0            NaN         54   среднее             1   \n",
       "\n",
       "          family_status  family_status_id gender income_type  debt  \\\n",
       "2849    женат / замужем                 0      F   сотрудник     0   \n",
       "3290   гражданский брак                 1      F   пенсионер     0   \n",
       "4182   гражданский брак                 1      F   сотрудник     0   \n",
       "4851   гражданский брак                 1      F   пенсионер     0   \n",
       "5557   гражданский брак                 1      F   пенсионер     0   \n",
       "...                 ...               ...    ...         ...   ...   \n",
       "20702   женат / замужем                 0      F   пенсионер     0   \n",
       "21032   женат / замужем                 0      F   пенсионер     0   \n",
       "21132   женат / замужем                 0      F   сотрудник     0   \n",
       "21281   женат / замужем                 0      F   сотрудник     0   \n",
       "21415   женат / замужем                 0      F   пенсионер     0   \n",
       "\n",
       "       total_income                            purpose  \n",
       "2849            NaN            покупка жилья для семьи  \n",
       "3290            NaN                    сыграть свадьбу  \n",
       "4182            NaN                            свадьба  \n",
       "4851            NaN                            свадьба  \n",
       "5557            NaN                    сыграть свадьбу  \n",
       "...             ...                                ...  \n",
       "20702           NaN         дополнительное образование  \n",
       "21032           NaN              заняться образованием  \n",
       "21132           NaN                       ремонт жилью  \n",
       "21281           NaN  покупка коммерческой недвижимости  \n",
       "21415           NaN                  операции с жильем  \n",
       "\n",
       "[71 rows x 12 columns]"
      ]
     },
     "execution_count": 5,
     "metadata": {},
     "output_type": "execute_result"
    }
   ],
   "source": [
    "# посмотрим внимательнее на дубликаты\n",
    "\n",
    "data[data.duplicated() == True] "
   ]
  },
  {
   "cell_type": "code",
   "execution_count": 6,
   "metadata": {},
   "outputs": [
    {
     "data": {
      "text/html": [
       "<div>\n",
       "<style scoped>\n",
       "    .dataframe tbody tr th:only-of-type {\n",
       "        vertical-align: middle;\n",
       "    }\n",
       "\n",
       "    .dataframe tbody tr th {\n",
       "        vertical-align: top;\n",
       "    }\n",
       "\n",
       "    .dataframe thead th {\n",
       "        text-align: right;\n",
       "    }\n",
       "</style>\n",
       "<table border=\"1\" class=\"dataframe\">\n",
       "  <thead>\n",
       "    <tr style=\"text-align: right;\">\n",
       "      <th></th>\n",
       "      <th>children</th>\n",
       "      <th>days_employed</th>\n",
       "      <th>dob_years</th>\n",
       "      <th>education</th>\n",
       "      <th>education_id</th>\n",
       "      <th>family_status</th>\n",
       "      <th>family_status_id</th>\n",
       "      <th>gender</th>\n",
       "      <th>income_type</th>\n",
       "      <th>debt</th>\n",
       "      <th>total_income</th>\n",
       "      <th>purpose</th>\n",
       "    </tr>\n",
       "  </thead>\n",
       "  <tbody>\n",
       "  </tbody>\n",
       "</table>\n",
       "</div>"
      ],
      "text/plain": [
       "Empty DataFrame\n",
       "Columns: [children, days_employed, dob_years, education, education_id, family_status, family_status_id, gender, income_type, debt, total_income, purpose]\n",
       "Index: []"
      ]
     },
     "execution_count": 6,
     "metadata": {},
     "output_type": "execute_result"
    }
   ],
   "source": [
    "# проверим, есть ли дубликаты с заполненным столбцом total_income\n",
    "\n",
    "data[(data.duplicated())&(~data['total_income'].isna())] "
   ]
  },
  {
   "cell_type": "markdown",
   "metadata": {},
   "source": [
    "В таблице нашелся 71 дубликат, все дубликаты имеют незаполненные значения в столбце с ежемесячным доходом. Так как нет уникального идентификатора для каждого заемщика, то нельзя утверждать, что найденные дубликаты являются действительно дубликатами. Однако, впоследствии они будут удалены из-за пропусков в столбце с ежемесячным доходом."
   ]
  },
  {
   "cell_type": "code",
   "execution_count": 7,
   "metadata": {},
   "outputs": [],
   "source": [
    "# удалим пропуски в столбце с ежемесячным доходом\n",
    "\n",
    "data.dropna(subset = ['total_income'], inplace = True)"
   ]
  },
  {
   "cell_type": "code",
   "execution_count": 8,
   "metadata": {},
   "outputs": [
    {
     "data": {
      "text/html": [
       "<style  type=\"text/css\" >\n",
       "</style><table id=\"T_172d9834_e26a_11eb_a36c_02420a3982f4\" ><thead>    <tr>        <th class=\"blank level0\" ></th>        <th class=\"col_heading level0 col0\" >children</th>        <th class=\"col_heading level0 col1\" >days_employed</th>        <th class=\"col_heading level0 col2\" >dob_years</th>        <th class=\"col_heading level0 col3\" >education_id</th>        <th class=\"col_heading level0 col4\" >family_status_id</th>        <th class=\"col_heading level0 col5\" >debt</th>        <th class=\"col_heading level0 col6\" >total_income</th>    </tr></thead><tbody>\n",
       "                <tr>\n",
       "                        <th id=\"T_172d9834_e26a_11eb_a36c_02420a3982f4level0_row0\" class=\"row_heading level0 row0\" >count</th>\n",
       "                        <td id=\"T_172d9834_e26a_11eb_a36c_02420a3982f4row0_col0\" class=\"data row0 col0\" >19351.00</td>\n",
       "                        <td id=\"T_172d9834_e26a_11eb_a36c_02420a3982f4row0_col1\" class=\"data row0 col1\" >19351.00</td>\n",
       "                        <td id=\"T_172d9834_e26a_11eb_a36c_02420a3982f4row0_col2\" class=\"data row0 col2\" >19351.00</td>\n",
       "                        <td id=\"T_172d9834_e26a_11eb_a36c_02420a3982f4row0_col3\" class=\"data row0 col3\" >19351.00</td>\n",
       "                        <td id=\"T_172d9834_e26a_11eb_a36c_02420a3982f4row0_col4\" class=\"data row0 col4\" >19351.00</td>\n",
       "                        <td id=\"T_172d9834_e26a_11eb_a36c_02420a3982f4row0_col5\" class=\"data row0 col5\" >19351.00</td>\n",
       "                        <td id=\"T_172d9834_e26a_11eb_a36c_02420a3982f4row0_col6\" class=\"data row0 col6\" >19351.00</td>\n",
       "            </tr>\n",
       "            <tr>\n",
       "                        <th id=\"T_172d9834_e26a_11eb_a36c_02420a3982f4level0_row1\" class=\"row_heading level0 row1\" >mean</th>\n",
       "                        <td id=\"T_172d9834_e26a_11eb_a36c_02420a3982f4row1_col0\" class=\"data row1 col0\" >0.54</td>\n",
       "                        <td id=\"T_172d9834_e26a_11eb_a36c_02420a3982f4row1_col1\" class=\"data row1 col1\" >66914.73</td>\n",
       "                        <td id=\"T_172d9834_e26a_11eb_a36c_02420a3982f4row1_col2\" class=\"data row1 col2\" >43.26</td>\n",
       "                        <td id=\"T_172d9834_e26a_11eb_a36c_02420a3982f4row1_col3\" class=\"data row1 col3\" >0.82</td>\n",
       "                        <td id=\"T_172d9834_e26a_11eb_a36c_02420a3982f4row1_col4\" class=\"data row1 col4\" >0.97</td>\n",
       "                        <td id=\"T_172d9834_e26a_11eb_a36c_02420a3982f4row1_col5\" class=\"data row1 col5\" >0.08</td>\n",
       "                        <td id=\"T_172d9834_e26a_11eb_a36c_02420a3982f4row1_col6\" class=\"data row1 col6\" >167422.30</td>\n",
       "            </tr>\n",
       "            <tr>\n",
       "                        <th id=\"T_172d9834_e26a_11eb_a36c_02420a3982f4level0_row2\" class=\"row_heading level0 row2\" >std</th>\n",
       "                        <td id=\"T_172d9834_e26a_11eb_a36c_02420a3982f4row2_col0\" class=\"data row2 col0\" >1.37</td>\n",
       "                        <td id=\"T_172d9834_e26a_11eb_a36c_02420a3982f4row2_col1\" class=\"data row2 col1\" >139030.88</td>\n",
       "                        <td id=\"T_172d9834_e26a_11eb_a36c_02420a3982f4row2_col2\" class=\"data row2 col2\" >12.58</td>\n",
       "                        <td id=\"T_172d9834_e26a_11eb_a36c_02420a3982f4row2_col3\" class=\"data row2 col3\" >0.55</td>\n",
       "                        <td id=\"T_172d9834_e26a_11eb_a36c_02420a3982f4row2_col4\" class=\"data row2 col4\" >1.42</td>\n",
       "                        <td id=\"T_172d9834_e26a_11eb_a36c_02420a3982f4row2_col5\" class=\"data row2 col5\" >0.27</td>\n",
       "                        <td id=\"T_172d9834_e26a_11eb_a36c_02420a3982f4row2_col6\" class=\"data row2 col6\" >102971.57</td>\n",
       "            </tr>\n",
       "            <tr>\n",
       "                        <th id=\"T_172d9834_e26a_11eb_a36c_02420a3982f4level0_row3\" class=\"row_heading level0 row3\" >min</th>\n",
       "                        <td id=\"T_172d9834_e26a_11eb_a36c_02420a3982f4row3_col0\" class=\"data row3 col0\" >-1.00</td>\n",
       "                        <td id=\"T_172d9834_e26a_11eb_a36c_02420a3982f4row3_col1\" class=\"data row3 col1\" >24.14</td>\n",
       "                        <td id=\"T_172d9834_e26a_11eb_a36c_02420a3982f4row3_col2\" class=\"data row3 col2\" >0.00</td>\n",
       "                        <td id=\"T_172d9834_e26a_11eb_a36c_02420a3982f4row3_col3\" class=\"data row3 col3\" >0.00</td>\n",
       "                        <td id=\"T_172d9834_e26a_11eb_a36c_02420a3982f4row3_col4\" class=\"data row3 col4\" >0.00</td>\n",
       "                        <td id=\"T_172d9834_e26a_11eb_a36c_02420a3982f4row3_col5\" class=\"data row3 col5\" >0.00</td>\n",
       "                        <td id=\"T_172d9834_e26a_11eb_a36c_02420a3982f4row3_col6\" class=\"data row3 col6\" >20667.26</td>\n",
       "            </tr>\n",
       "            <tr>\n",
       "                        <th id=\"T_172d9834_e26a_11eb_a36c_02420a3982f4level0_row4\" class=\"row_heading level0 row4\" >25%</th>\n",
       "                        <td id=\"T_172d9834_e26a_11eb_a36c_02420a3982f4row4_col0\" class=\"data row4 col0\" >0.00</td>\n",
       "                        <td id=\"T_172d9834_e26a_11eb_a36c_02420a3982f4row4_col1\" class=\"data row4 col1\" >927.01</td>\n",
       "                        <td id=\"T_172d9834_e26a_11eb_a36c_02420a3982f4row4_col2\" class=\"data row4 col2\" >33.00</td>\n",
       "                        <td id=\"T_172d9834_e26a_11eb_a36c_02420a3982f4row4_col3\" class=\"data row4 col3\" >1.00</td>\n",
       "                        <td id=\"T_172d9834_e26a_11eb_a36c_02420a3982f4row4_col4\" class=\"data row4 col4\" >0.00</td>\n",
       "                        <td id=\"T_172d9834_e26a_11eb_a36c_02420a3982f4row4_col5\" class=\"data row4 col5\" >0.00</td>\n",
       "                        <td id=\"T_172d9834_e26a_11eb_a36c_02420a3982f4row4_col6\" class=\"data row4 col6\" >103053.15</td>\n",
       "            </tr>\n",
       "            <tr>\n",
       "                        <th id=\"T_172d9834_e26a_11eb_a36c_02420a3982f4level0_row5\" class=\"row_heading level0 row5\" >50%</th>\n",
       "                        <td id=\"T_172d9834_e26a_11eb_a36c_02420a3982f4row5_col0\" class=\"data row5 col0\" >0.00</td>\n",
       "                        <td id=\"T_172d9834_e26a_11eb_a36c_02420a3982f4row5_col1\" class=\"data row5 col1\" >2194.22</td>\n",
       "                        <td id=\"T_172d9834_e26a_11eb_a36c_02420a3982f4row5_col2\" class=\"data row5 col2\" >42.00</td>\n",
       "                        <td id=\"T_172d9834_e26a_11eb_a36c_02420a3982f4row5_col3\" class=\"data row5 col3\" >1.00</td>\n",
       "                        <td id=\"T_172d9834_e26a_11eb_a36c_02420a3982f4row5_col4\" class=\"data row5 col4\" >0.00</td>\n",
       "                        <td id=\"T_172d9834_e26a_11eb_a36c_02420a3982f4row5_col5\" class=\"data row5 col5\" >0.00</td>\n",
       "                        <td id=\"T_172d9834_e26a_11eb_a36c_02420a3982f4row5_col6\" class=\"data row5 col6\" >145017.94</td>\n",
       "            </tr>\n",
       "            <tr>\n",
       "                        <th id=\"T_172d9834_e26a_11eb_a36c_02420a3982f4level0_row6\" class=\"row_heading level0 row6\" >75%</th>\n",
       "                        <td id=\"T_172d9834_e26a_11eb_a36c_02420a3982f4row6_col0\" class=\"data row6 col0\" >1.00</td>\n",
       "                        <td id=\"T_172d9834_e26a_11eb_a36c_02420a3982f4row6_col1\" class=\"data row6 col1\" >5537.88</td>\n",
       "                        <td id=\"T_172d9834_e26a_11eb_a36c_02420a3982f4row6_col2\" class=\"data row6 col2\" >53.00</td>\n",
       "                        <td id=\"T_172d9834_e26a_11eb_a36c_02420a3982f4row6_col3\" class=\"data row6 col3\" >1.00</td>\n",
       "                        <td id=\"T_172d9834_e26a_11eb_a36c_02420a3982f4row6_col4\" class=\"data row6 col4\" >1.00</td>\n",
       "                        <td id=\"T_172d9834_e26a_11eb_a36c_02420a3982f4row6_col5\" class=\"data row6 col5\" >0.00</td>\n",
       "                        <td id=\"T_172d9834_e26a_11eb_a36c_02420a3982f4row6_col6\" class=\"data row6 col6\" >203435.07</td>\n",
       "            </tr>\n",
       "            <tr>\n",
       "                        <th id=\"T_172d9834_e26a_11eb_a36c_02420a3982f4level0_row7\" class=\"row_heading level0 row7\" >max</th>\n",
       "                        <td id=\"T_172d9834_e26a_11eb_a36c_02420a3982f4row7_col0\" class=\"data row7 col0\" >20.00</td>\n",
       "                        <td id=\"T_172d9834_e26a_11eb_a36c_02420a3982f4row7_col1\" class=\"data row7 col1\" >401755.40</td>\n",
       "                        <td id=\"T_172d9834_e26a_11eb_a36c_02420a3982f4row7_col2\" class=\"data row7 col2\" >75.00</td>\n",
       "                        <td id=\"T_172d9834_e26a_11eb_a36c_02420a3982f4row7_col3\" class=\"data row7 col3\" >4.00</td>\n",
       "                        <td id=\"T_172d9834_e26a_11eb_a36c_02420a3982f4row7_col4\" class=\"data row7 col4\" >4.00</td>\n",
       "                        <td id=\"T_172d9834_e26a_11eb_a36c_02420a3982f4row7_col5\" class=\"data row7 col5\" >1.00</td>\n",
       "                        <td id=\"T_172d9834_e26a_11eb_a36c_02420a3982f4row7_col6\" class=\"data row7 col6\" >2265604.03</td>\n",
       "            </tr>\n",
       "    </tbody></table>"
      ],
      "text/plain": [
       "<pandas.io.formats.style.Styler at 0x7f42b9073dd0>"
      ]
     },
     "execution_count": 8,
     "metadata": {},
     "output_type": "execute_result"
    }
   ],
   "source": [
    "# далее изучим каждый столбец по очереди\n",
    "\n",
    "data.describe().style.format('{:.2f}')"
   ]
  },
  {
   "cell_type": "code",
   "execution_count": 9,
   "metadata": {},
   "outputs": [
    {
     "data": {
      "text/plain": [
       "count    19351.000000\n",
       "mean         0.541936\n",
       "std          1.369617\n",
       "min          0.000000\n",
       "0%           0.000000\n",
       "5%           0.000000\n",
       "10%          0.000000\n",
       "15%          0.000000\n",
       "20%          0.000000\n",
       "25%          0.000000\n",
       "30%          0.000000\n",
       "35%          0.000000\n",
       "40%          0.000000\n",
       "45%          0.000000\n",
       "50%          0.000000\n",
       "55%          0.000000\n",
       "60%          0.000000\n",
       "65%          0.000000\n",
       "70%          1.000000\n",
       "75%          1.000000\n",
       "80%          1.000000\n",
       "85%          1.000000\n",
       "90%          2.000000\n",
       "95%          2.000000\n",
       "max         20.000000\n",
       "Name: children, dtype: float64"
      ]
     },
     "execution_count": 9,
     "metadata": {},
     "output_type": "execute_result"
    }
   ],
   "source": [
    "# рассмотрим столбец с количеством детей\n",
    "\n",
    "data['children'] = data['children'].apply(abs) # переведем отрицательное количество детей в положительное\n",
    "data['children'].describe(np.arange(0,1,0.05))"
   ]
  },
  {
   "cell_type": "markdown",
   "metadata": {},
   "source": [
    "Заемщиков с тремя и более детьми не больше 5%. Максимум - заемщики с 20 детьми, что маловероятно. 65% заемщиков не имеют детей."
   ]
  },
  {
   "cell_type": "code",
   "execution_count": 10,
   "metadata": {},
   "outputs": [
    {
     "data": {
      "text/plain": [
       "children            3428\n",
       "days_employed       3428\n",
       "dob_years           3428\n",
       "education           3428\n",
       "education_id        3428\n",
       "family_status       3428\n",
       "family_status_id    3428\n",
       "gender              3428\n",
       "income_type         3428\n",
       "debt                3428\n",
       "total_income        3428\n",
       "purpose             3428\n",
       "dtype: int64"
      ]
     },
     "metadata": {},
     "output_type": "display_data"
    },
    {
     "data": {
      "text/plain": [
       "count      3428.000000\n",
       "mean     365016.543146\n",
       "std       21060.402744\n",
       "min      328728.720605\n",
       "25%      346685.613113\n",
       "50%      365176.336775\n",
       "75%      383256.213070\n",
       "max      401755.400475\n",
       "Name: days_employed, dtype: float64"
      ]
     },
     "metadata": {},
     "output_type": "display_data"
    },
    {
     "data": {
      "text/plain": [
       "children            3446\n",
       "days_employed       3446\n",
       "dob_years           3446\n",
       "education           3446\n",
       "education_id        3446\n",
       "family_status       3446\n",
       "family_status_id    3446\n",
       "gender              3446\n",
       "income_type         3446\n",
       "debt                3446\n",
       "total_income        3446\n",
       "purpose             3446\n",
       "dtype: int64"
      ]
     },
     "metadata": {},
     "output_type": "display_data"
    },
    {
     "data": {
      "text/plain": [
       "children            3445\n",
       "days_employed       3445\n",
       "dob_years           3445\n",
       "education           3445\n",
       "education_id        3445\n",
       "family_status       3445\n",
       "family_status_id    3445\n",
       "gender              3445\n",
       "income_type         3445\n",
       "debt                3445\n",
       "total_income        3445\n",
       "purpose             3445\n",
       "dtype: int64"
      ]
     },
     "metadata": {},
     "output_type": "display_data"
    }
   ],
   "source": [
    "# изучим столбец с трудовым стажем\n",
    "# проверим случаи, когда количество лет трудового стажа превышает возраст заемщика, при условии ненулевого возраста заемщика\n",
    "\n",
    "display(data[(data['days_employed']/365 > data['dob_years'])&(data['dob_years'] != 0)].count())\n",
    "\n",
    "# посмотрим на распределение этих неправильных случаев\n",
    "\n",
    "display(data[(data['days_employed']/365 > data['dob_years'])&(data['dob_years'] != 0)]['days_employed'].describe())\n",
    "\n",
    "# посчитаем количество заемщиков, трудившихся более 50 лет\n",
    "\n",
    "display(data[data['days_employed'] > 18250].count()) \n",
    "\n",
    "# посчитаем количество заемщиков, трудившихся более 100 лет\n",
    "\n",
    "display(data[data['days_employed'] > 36500].count()) "
   ]
  },
  {
   "cell_type": "markdown",
   "metadata": {},
   "source": [
    "Получим 3428 случаев, когда количество лет трудового стажа превышает возраст заемщика, при условии ненулевого возраста заемщика. Во всех этих случаях трудовой стаж превышает 328 тысяч дней, то есть является абсолютно неправдоподобным. Практически 16% данных о трудовом стаже неверны. Плюс около 10% пропусков, итого около 25% данных о трудовом стаже неизвестны.\n",
    "\n",
    "Количество заемщиков с трудовым стажем более 50 лет - 3446, более 100 лет - 3445. \n",
    "\n",
    "Медианный стаж заемщиков - около 6 лет. При медианном возрасте в 42 года медианный стаж тоже выглядит странно. Однако за неимением других данных заменим пропуски в трудовом стаже медианой."
   ]
  },
  {
   "cell_type": "code",
   "execution_count": 11,
   "metadata": {},
   "outputs": [
    {
     "data": {
      "text/plain": [
       "0"
      ]
     },
     "execution_count": 11,
     "metadata": {},
     "output_type": "execute_result"
    }
   ],
   "source": [
    "# заменим пропуски в столбце с трудовым стажем медианным значением\n",
    "\n",
    "data.loc[data['days_employed'].isna(), 'days_employed'] = data['days_employed'].median()\n",
    "data['days_employed'].isna().sum() # проверим, что пропуски заменились"
   ]
  },
  {
   "cell_type": "code",
   "execution_count": 12,
   "metadata": {},
   "outputs": [
    {
     "data": {
      "text/plain": [
       "children            91\n",
       "days_employed       91\n",
       "dob_years           91\n",
       "education           91\n",
       "education_id        91\n",
       "family_status       91\n",
       "family_status_id    91\n",
       "gender              91\n",
       "income_type         91\n",
       "debt                91\n",
       "total_income        91\n",
       "purpose             91\n",
       "dtype: int64"
      ]
     },
     "execution_count": 12,
     "metadata": {},
     "output_type": "execute_result"
    }
   ],
   "source": [
    "# рассмотрим столбец с возрастом. посчитаем количество нулевых значений \n",
    "\n",
    "data[data['dob_years'] ==0].count()"
   ]
  },
  {
   "cell_type": "code",
   "execution_count": 13,
   "metadata": {},
   "outputs": [],
   "source": [
    "data.loc[data['dob_years'] == 0, 'dob_years'] = data['dob_years']"
   ]
  },
  {
   "cell_type": "markdown",
   "metadata": {},
   "source": [
    "Есть 91 заемщик с нулевым возрастом, заменили нули на средний возраст."
   ]
  },
  {
   "cell_type": "code",
   "execution_count": 14,
   "metadata": {},
   "outputs": [
    {
     "data": {
      "text/plain": [
       "среднее                13693\n",
       "высшее                  4716\n",
       "неоконченное высшее      675\n",
       "начальное                261\n",
       "ученая степень             6\n",
       "Name: education, dtype: int64"
      ]
     },
     "metadata": {},
     "output_type": "display_data"
    },
    {
     "data": {
      "text/plain": [
       "1    13693\n",
       "0     4716\n",
       "2      675\n",
       "3      261\n",
       "4        6\n",
       "Name: education_id, dtype: int64"
      ]
     },
     "metadata": {},
     "output_type": "display_data"
    }
   ],
   "source": [
    "# проверим столбец с образованием\n",
    "\n",
    "display(data['education'].value_counts())\n",
    "display(data['education_id'].value_counts())"
   ]
  },
  {
   "cell_type": "markdown",
   "metadata": {},
   "source": [
    "В столбцах с образованием данные сходятся между собой, около 70% заемщиков имеют среднее образование."
   ]
  },
  {
   "cell_type": "code",
   "execution_count": 15,
   "metadata": {},
   "outputs": [
    {
     "data": {
      "text/plain": [
       "женат / замужем          11143\n",
       "гражданский брак          3735\n",
       "Не женат / не замужем     2525\n",
       "в разводе                 1083\n",
       "вдовец / вдова             865\n",
       "Name: family_status, dtype: int64"
      ]
     },
     "metadata": {},
     "output_type": "display_data"
    },
    {
     "data": {
      "text/plain": [
       "0    11143\n",
       "1     3735\n",
       "4     2525\n",
       "3     1083\n",
       "2      865\n",
       "Name: family_status_id, dtype: int64"
      ]
     },
     "metadata": {},
     "output_type": "display_data"
    }
   ],
   "source": [
    "# проверим столбец с семейным положением\n",
    "\n",
    "display(data['family_status'].value_counts())\n",
    "display(data['family_status_id'].value_counts())"
   ]
  },
  {
   "cell_type": "markdown",
   "metadata": {},
   "source": [
    "Данные о семейном положении так же сходятся между собой, чуть больше половины заемщиков 'женаты/замужем'"
   ]
  },
  {
   "cell_type": "code",
   "execution_count": 16,
   "metadata": {},
   "outputs": [
    {
     "data": {
      "text/plain": [
       "F      12752\n",
       "M       6598\n",
       "XNA        1\n",
       "Name: gender, dtype: int64"
      ]
     },
     "execution_count": 16,
     "metadata": {},
     "output_type": "execute_result"
    }
   ],
   "source": [
    "# изучим столбец с данными о поле заемщика\n",
    "\n",
    "data['gender'].value_counts()"
   ]
  },
  {
   "cell_type": "code",
   "execution_count": 17,
   "metadata": {},
   "outputs": [
    {
     "data": {
      "text/plain": [
       "F    12753\n",
       "M     6598\n",
       "Name: gender, dtype: int64"
      ]
     },
     "execution_count": 17,
     "metadata": {},
     "output_type": "execute_result"
    }
   ],
   "source": [
    "# заменим непонятный пол на женский, так как женщин почти в два раза больше, чем мужчин\n",
    "\n",
    "data.loc[data['gender'] == 'XNA', 'gender'] = 'F'\n",
    "data['gender'].value_counts() # проверили"
   ]
  },
  {
   "cell_type": "code",
   "execution_count": 18,
   "metadata": {},
   "outputs": [
    {
     "data": {
      "text/plain": [
       "сотрудник          10014\n",
       "компаньон           4577\n",
       "пенсионер           3443\n",
       "госслужащий         1312\n",
       "безработный            2\n",
       "студент                1\n",
       "предприниматель        1\n",
       "в декрете              1\n",
       "Name: income_type, dtype: int64"
      ]
     },
     "execution_count": 18,
     "metadata": {},
     "output_type": "execute_result"
    }
   ],
   "source": [
    "# столбец с видом занятости\n",
    "\n",
    "data['income_type'].value_counts()"
   ]
  },
  {
   "cell_type": "code",
   "execution_count": 19,
   "metadata": {},
   "outputs": [
    {
     "data": {
      "text/plain": [
       "0    17780\n",
       "1     1571\n",
       "Name: debt, dtype: int64"
      ]
     },
     "execution_count": 19,
     "metadata": {},
     "output_type": "execute_result"
    }
   ],
   "source": [
    "# столбец с информацией о проблемах с задолженностью\n",
    "\n",
    "data['debt'].value_counts()"
   ]
  },
  {
   "cell_type": "code",
   "execution_count": 20,
   "metadata": {},
   "outputs": [
    {
     "data": {
      "text/plain": [
       "свадьба                                   721\n",
       "сыграть свадьбу                           693\n",
       "на проведение свадьбы                     685\n",
       "операции с недвижимостью                  615\n",
       "покупка коммерческой недвижимости         597\n",
       "покупка жилья                             595\n",
       "покупка жилья для сдачи                   588\n",
       "жилье                                     587\n",
       "операции с коммерческой недвижимостью     581\n",
       "строительство жилой недвижимости          580\n",
       "операции с жильем                         579\n",
       "покупка своего жилья                      574\n",
       "недвижимость                              572\n",
       "покупка жилья для семьи                   570\n",
       "строительство недвижимости                561\n",
       "строительство собственной недвижимости    560\n",
       "операции со своей недвижимостью           559\n",
       "покупка недвижимости                      552\n",
       "покупка жилой недвижимости                546\n",
       "ремонт жилью                              542\n",
       "автомобиль                                454\n",
       "на покупку своего автомобиля              452\n",
       "на покупку автомобиля                     442\n",
       "заняться высшим образованием              440\n",
       "на покупку подержанного автомобиля        437\n",
       "сделка с подержанным автомобилем          435\n",
       "свой автомобиль                           428\n",
       "автомобили                                421\n",
       "приобретение автомобиля                   419\n",
       "дополнительное образование                414\n",
       "высшее образование                        413\n",
       "сделка с автомобилем                      409\n",
       "образование                               405\n",
       "получение дополнительного образования     396\n",
       "получение образования                     393\n",
       "получение высшего образования             390\n",
       "профильное образование                    389\n",
       "заняться образованием                     357\n",
       "Name: purpose, dtype: int64"
      ]
     },
     "execution_count": 20,
     "metadata": {},
     "output_type": "execute_result"
    }
   ],
   "source": [
    "# столбец с целью кредита, здесь много вариантов одного и того же, потом надо разбить на недвижимость, образование,\n",
    "# автомобиль, свадьба, ремонт\n",
    "\n",
    "data['purpose'].value_counts()"
   ]
  },
  {
   "cell_type": "markdown",
   "metadata": {},
   "source": [
    "ИТОГО:\n",
    "\n",
    "По столбцу \"дети\": имелись отрицательные значения - заменили их на положительные; есть данные с очень большим количеством детей, но их немного, стоит ли их заменять на более правдоподобные - зависит от цели исследования, в данный момент не заменяем.\n",
    "\n",
    "По столбцу \"трудовой стаж в днях\": отрицательные значения заменили на положительные; 16% просто неверных значений, \n",
    "чем их качественно заменить - непонятно, в идеале надо обратиться к поставщику данных. Пропуски (их было примерно 10%) заменили на медиану, хоть это и плохо. Итого суммарно 26% неверных данных.\n",
    "\n",
    "По столбцу \"возраст заемщика\": были нулевые пропуски, их было немного, заменили на среднее значение возраста ненулевых.\n",
    "    \n",
    "Столбец \"образование\" привели к единому стандарту.\n",
    "\n",
    "Столбцы \"идентификатор уровня образования\", \"семейное положение\", \"идентификатор семейного положения\", \"тип занятости\" и \n",
    "\"идентификатор проблем с возвратом кредита\" изменениям не подвергались.\n",
    "\n",
    "В столбце \"пол\" заменили одно неопознанное значение на женский.\n",
    "\n",
    "В столбце \"ежемесячный доход\" было около 10% пропусков, удалили пропуски. После очистки осталась 19 351 строка.\n",
    "\n",
    "В целом по заемщикам:\n",
    "\n",
    "    - примерно 2/3 заемщиков женщины, 1/3  - мужчины\n",
    "    - средний возраст заемщиков - 42 года\n",
    "    - чуть больше половины заемщиков женаты или замужем\n",
    "    - около 70% заемщиков имеют среднее образование\n",
    "    - примерно 2/3 заемщиков не имеют детей\n",
    "    - около 8% имели проблемы с возвратом кредита"
   ]
  },
  {
   "cell_type": "markdown",
   "metadata": {},
   "source": [
    "## Замена типов данных"
   ]
  },
  {
   "cell_type": "code",
   "execution_count": 21,
   "metadata": {},
   "outputs": [
    {
     "name": "stdout",
     "output_type": "stream",
     "text": [
      "<class 'pandas.core.frame.DataFrame'>\n",
      "Int64Index: 19351 entries, 0 to 21524\n",
      "Data columns (total 12 columns):\n",
      "children            19351 non-null int64\n",
      "days_employed       19351 non-null int64\n",
      "dob_years           19351 non-null int64\n",
      "education           19351 non-null object\n",
      "education_id        19351 non-null int64\n",
      "family_status       19351 non-null object\n",
      "family_status_id    19351 non-null int64\n",
      "gender              19351 non-null object\n",
      "income_type         19351 non-null object\n",
      "debt                19351 non-null int64\n",
      "total_income        19351 non-null int64\n",
      "purpose             19351 non-null object\n",
      "dtypes: int64(7), object(5)\n",
      "memory usage: 2.5+ MB\n"
     ]
    }
   ],
   "source": [
    "data['days_employed'] = data['days_employed'].astype('int') # заменим вещественный числа на целые\n",
    "\n",
    "data['total_income'] = data['total_income'].astype('int') # заменим вещественный числа на целые\n",
    "\n",
    "data['dob_years'] = data['dob_years'].astype('int') # заменим вещественный числа на целые\n",
    "\n",
    "data.info()"
   ]
  },
  {
   "cell_type": "markdown",
   "metadata": {},
   "source": [
    "Пропуски убрали, вещественные числа перевели в целые."
   ]
  },
  {
   "cell_type": "markdown",
   "metadata": {},
   "source": [
    "## Лемматизация"
   ]
  },
  {
   "cell_type": "code",
   "execution_count": 22,
   "metadata": {},
   "outputs": [
    {
     "data": {
      "text/plain": [
       "Counter({'покупка': 5353,\n",
       "         ' ': 30248,\n",
       "         'жилье': 4035,\n",
       "         ',': 19350,\n",
       "         'приобретение': 419,\n",
       "         'автомобиль': 3897,\n",
       "         'дополнительный': 810,\n",
       "         'образование': 3597,\n",
       "         'сыграть': 693,\n",
       "         'свадьба': 2099,\n",
       "         'операция': 2334,\n",
       "         'с': 2619,\n",
       "         'на': 2016,\n",
       "         'проведение': 685,\n",
       "         'для': 1158,\n",
       "         'семья': 570,\n",
       "         'недвижимость': 5723,\n",
       "         'коммерческий': 1178,\n",
       "         'жилой': 1126,\n",
       "         'строительство': 1701,\n",
       "         'собственный': 560,\n",
       "         'подержать': 771,\n",
       "         'свой': 2013,\n",
       "         'со': 559,\n",
       "         'заниматься': 797,\n",
       "         'получение': 1179,\n",
       "         'сделка': 844,\n",
       "         'высокий': 1243,\n",
       "         'профильный': 389,\n",
       "         'сдача': 588,\n",
       "         'ремонт': 542,\n",
       "         'подержанный': 101,\n",
       "         '\\n': 1})"
      ]
     },
     "execution_count": 22,
     "metadata": {},
     "output_type": "execute_result"
    }
   ],
   "source": [
    "# посчитаем общую частотность слов в столбце в целью кредита\n",
    "\n",
    "string = ','.join(data['purpose'])\n",
    "lemmas = m.lemmatize(string)\n",
    "Counter(lemmas)            "
   ]
  },
  {
   "cell_type": "markdown",
   "metadata": {},
   "source": [
    "Получаем, что основные цели кредита это: свадьба, жилье/недвижимость, автомобиль, образование, ремонт."
   ]
  },
  {
   "cell_type": "code",
   "execution_count": 23,
   "metadata": {},
   "outputs": [
    {
     "data": {
      "text/plain": [
       "недвижимость    9216\n",
       "автомобиль      3897\n",
       "образование     3597\n",
       "свадьба         2099\n",
       "ремонт           542\n",
       "Name: purpose_short, dtype: int64"
      ]
     },
     "execution_count": 23,
     "metadata": {},
     "output_type": "execute_result"
    }
   ],
   "source": [
    "# функция для выявления цели кредита\n",
    "\n",
    "def purposes (purpose): \n",
    "    lemmas = m.lemmatize(purpose)\n",
    "    if 'свадьба' in lemmas:\n",
    "        return 'свадьба'\n",
    "    if 'образование' in lemmas:\n",
    "        return 'образование'\n",
    "    if 'ремонт' in lemmas:\n",
    "        return 'ремонт'\n",
    "    if 'автомобиль' in lemmas:\n",
    "        return 'автомобиль'\n",
    "    if 'жилье' or 'недвижимость' in lemmas:\n",
    "        return 'недвижимость'\n",
    "    return 'другое'\n",
    "\n",
    "data['purpose_short'] = data['purpose'].apply(purposes) # добавляем новый столбец с целью кредита\n",
    "data['purpose_short'].value_counts() # проверяем новый столбец               "
   ]
  },
  {
   "cell_type": "markdown",
   "metadata": {},
   "source": [
    "Почти половина кредитов берется на покупку жилья, по 20% на автомобиль и образование."
   ]
  },
  {
   "cell_type": "markdown",
   "metadata": {},
   "source": [
    "## Категоризация данных"
   ]
  },
  {
   "cell_type": "code",
   "execution_count": 24,
   "metadata": {},
   "outputs": [
    {
     "data": {
      "text/plain": [
       "103053.0"
      ]
     },
     "metadata": {},
     "output_type": "display_data"
    },
    {
     "data": {
      "text/plain": [
       "145017.0"
      ]
     },
     "metadata": {},
     "output_type": "display_data"
    },
    {
     "data": {
      "text/plain": [
       "203434.5"
      ]
     },
     "metadata": {},
     "output_type": "display_data"
    }
   ],
   "source": [
    "# напишем функцию, распределяющую заемщиков по разным уровням дохода\n",
    "\n",
    "q1 = data['total_income'].quantile(0.25)\n",
    "q2 = data['total_income'].quantile(0.5)\n",
    "q3 = data['total_income'].quantile(0.75)\n",
    "\n",
    "def group_income(income): \n",
    "    if income <= q1:\n",
    "        return 1 \n",
    "    if income > q1 and income <= q2:\n",
    "        return 2\n",
    "    if income > q2 and income <= q3:\n",
    "        return 3\n",
    "    return 4\n",
    "\n",
    "# применим данную функцию к столбцу с ежемесячным доходом и на его основе сформируем новый столбец\n",
    "\n",
    "data['level_income'] = data['total_income'].apply(group_income)\n",
    "display(q1,q2,q3)"
   ]
  },
  {
   "cell_type": "code",
   "execution_count": 25,
   "metadata": {},
   "outputs": [
    {
     "data": {
      "text/html": [
       "<div>\n",
       "<style scoped>\n",
       "    .dataframe tbody tr th:only-of-type {\n",
       "        vertical-align: middle;\n",
       "    }\n",
       "\n",
       "    .dataframe tbody tr th {\n",
       "        vertical-align: top;\n",
       "    }\n",
       "\n",
       "    .dataframe thead tr th {\n",
       "        text-align: left;\n",
       "    }\n",
       "\n",
       "    .dataframe thead tr:last-of-type th {\n",
       "        text-align: right;\n",
       "    }\n",
       "</style>\n",
       "<table border=\"1\" class=\"dataframe\">\n",
       "  <thead>\n",
       "    <tr>\n",
       "      <th></th>\n",
       "      <th colspan=\"3\" halign=\"left\">debt</th>\n",
       "    </tr>\n",
       "    <tr>\n",
       "      <th></th>\n",
       "      <th>count</th>\n",
       "      <th>sum</th>\n",
       "      <th>mean</th>\n",
       "    </tr>\n",
       "    <tr>\n",
       "      <th>gender</th>\n",
       "      <th></th>\n",
       "      <th></th>\n",
       "      <th></th>\n",
       "    </tr>\n",
       "  </thead>\n",
       "  <tbody>\n",
       "    <tr>\n",
       "      <td>F</td>\n",
       "      <td>12753</td>\n",
       "      <td>895</td>\n",
       "      <td>0.070180</td>\n",
       "    </tr>\n",
       "    <tr>\n",
       "      <td>M</td>\n",
       "      <td>6598</td>\n",
       "      <td>676</td>\n",
       "      <td>0.102455</td>\n",
       "    </tr>\n",
       "  </tbody>\n",
       "</table>\n",
       "</div>"
      ],
      "text/plain": [
       "         debt               \n",
       "        count  sum      mean\n",
       "gender                      \n",
       "F       12753  895  0.070180\n",
       "M        6598  676  0.102455"
      ]
     },
     "metadata": {},
     "output_type": "display_data"
    },
    {
     "data": {
      "text/html": [
       "<div>\n",
       "<style scoped>\n",
       "    .dataframe tbody tr th:only-of-type {\n",
       "        vertical-align: middle;\n",
       "    }\n",
       "\n",
       "    .dataframe tbody tr th {\n",
       "        vertical-align: top;\n",
       "    }\n",
       "\n",
       "    .dataframe thead tr th {\n",
       "        text-align: left;\n",
       "    }\n",
       "\n",
       "    .dataframe thead tr:last-of-type th {\n",
       "        text-align: right;\n",
       "    }\n",
       "</style>\n",
       "<table border=\"1\" class=\"dataframe\">\n",
       "  <thead>\n",
       "    <tr>\n",
       "      <th></th>\n",
       "      <th colspan=\"3\" halign=\"left\">debt</th>\n",
       "    </tr>\n",
       "    <tr>\n",
       "      <th></th>\n",
       "      <th>count</th>\n",
       "      <th>sum</th>\n",
       "      <th>mean</th>\n",
       "    </tr>\n",
       "    <tr>\n",
       "      <th>children</th>\n",
       "      <th></th>\n",
       "      <th></th>\n",
       "      <th></th>\n",
       "    </tr>\n",
       "  </thead>\n",
       "  <tbody>\n",
       "    <tr>\n",
       "      <td>0</td>\n",
       "      <td>12710</td>\n",
       "      <td>952</td>\n",
       "      <td>0.074902</td>\n",
       "    </tr>\n",
       "    <tr>\n",
       "      <td>1</td>\n",
       "      <td>4387</td>\n",
       "      <td>409</td>\n",
       "      <td>0.093230</td>\n",
       "    </tr>\n",
       "    <tr>\n",
       "      <td>2</td>\n",
       "      <td>1851</td>\n",
       "      <td>177</td>\n",
       "      <td>0.095624</td>\n",
       "    </tr>\n",
       "    <tr>\n",
       "      <td>3</td>\n",
       "      <td>294</td>\n",
       "      <td>22</td>\n",
       "      <td>0.074830</td>\n",
       "    </tr>\n",
       "    <tr>\n",
       "      <td>4</td>\n",
       "      <td>34</td>\n",
       "      <td>3</td>\n",
       "      <td>0.088235</td>\n",
       "    </tr>\n",
       "    <tr>\n",
       "      <td>5</td>\n",
       "      <td>8</td>\n",
       "      <td>0</td>\n",
       "      <td>0.000000</td>\n",
       "    </tr>\n",
       "    <tr>\n",
       "      <td>20</td>\n",
       "      <td>67</td>\n",
       "      <td>8</td>\n",
       "      <td>0.119403</td>\n",
       "    </tr>\n",
       "  </tbody>\n",
       "</table>\n",
       "</div>"
      ],
      "text/plain": [
       "           debt               \n",
       "          count  sum      mean\n",
       "children                      \n",
       "0         12710  952  0.074902\n",
       "1          4387  409  0.093230\n",
       "2          1851  177  0.095624\n",
       "3           294   22  0.074830\n",
       "4            34    3  0.088235\n",
       "5             8    0  0.000000\n",
       "20           67    8  0.119403"
      ]
     },
     "metadata": {},
     "output_type": "display_data"
    },
    {
     "data": {
      "text/html": [
       "<div>\n",
       "<style scoped>\n",
       "    .dataframe tbody tr th:only-of-type {\n",
       "        vertical-align: middle;\n",
       "    }\n",
       "\n",
       "    .dataframe tbody tr th {\n",
       "        vertical-align: top;\n",
       "    }\n",
       "\n",
       "    .dataframe thead tr th {\n",
       "        text-align: left;\n",
       "    }\n",
       "\n",
       "    .dataframe thead tr:last-of-type th {\n",
       "        text-align: right;\n",
       "    }\n",
       "</style>\n",
       "<table border=\"1\" class=\"dataframe\">\n",
       "  <thead>\n",
       "    <tr>\n",
       "      <th></th>\n",
       "      <th colspan=\"3\" halign=\"left\">debt</th>\n",
       "    </tr>\n",
       "    <tr>\n",
       "      <th></th>\n",
       "      <th>count</th>\n",
       "      <th>sum</th>\n",
       "      <th>mean</th>\n",
       "    </tr>\n",
       "    <tr>\n",
       "      <th>family_status_id</th>\n",
       "      <th></th>\n",
       "      <th></th>\n",
       "      <th></th>\n",
       "    </tr>\n",
       "  </thead>\n",
       "  <tbody>\n",
       "    <tr>\n",
       "      <td>0</td>\n",
       "      <td>11143</td>\n",
       "      <td>846</td>\n",
       "      <td>0.075922</td>\n",
       "    </tr>\n",
       "    <tr>\n",
       "      <td>1</td>\n",
       "      <td>3735</td>\n",
       "      <td>339</td>\n",
       "      <td>0.090763</td>\n",
       "    </tr>\n",
       "    <tr>\n",
       "      <td>2</td>\n",
       "      <td>865</td>\n",
       "      <td>56</td>\n",
       "      <td>0.064740</td>\n",
       "    </tr>\n",
       "    <tr>\n",
       "      <td>3</td>\n",
       "      <td>1083</td>\n",
       "      <td>76</td>\n",
       "      <td>0.070175</td>\n",
       "    </tr>\n",
       "    <tr>\n",
       "      <td>4</td>\n",
       "      <td>2525</td>\n",
       "      <td>254</td>\n",
       "      <td>0.100594</td>\n",
       "    </tr>\n",
       "  </tbody>\n",
       "</table>\n",
       "</div>"
      ],
      "text/plain": [
       "                   debt               \n",
       "                  count  sum      mean\n",
       "family_status_id                      \n",
       "0                 11143  846  0.075922\n",
       "1                  3735  339  0.090763\n",
       "2                   865   56  0.064740\n",
       "3                  1083   76  0.070175\n",
       "4                  2525  254  0.100594"
      ]
     },
     "metadata": {},
     "output_type": "display_data"
    },
    {
     "data": {
      "text/html": [
       "<div>\n",
       "<style scoped>\n",
       "    .dataframe tbody tr th:only-of-type {\n",
       "        vertical-align: middle;\n",
       "    }\n",
       "\n",
       "    .dataframe tbody tr th {\n",
       "        vertical-align: top;\n",
       "    }\n",
       "\n",
       "    .dataframe thead tr th {\n",
       "        text-align: left;\n",
       "    }\n",
       "\n",
       "    .dataframe thead tr:last-of-type th {\n",
       "        text-align: right;\n",
       "    }\n",
       "</style>\n",
       "<table border=\"1\" class=\"dataframe\">\n",
       "  <thead>\n",
       "    <tr>\n",
       "      <th></th>\n",
       "      <th colspan=\"3\" halign=\"left\">debt</th>\n",
       "    </tr>\n",
       "    <tr>\n",
       "      <th></th>\n",
       "      <th>count</th>\n",
       "      <th>sum</th>\n",
       "      <th>mean</th>\n",
       "    </tr>\n",
       "    <tr>\n",
       "      <th>level_income</th>\n",
       "      <th></th>\n",
       "      <th></th>\n",
       "      <th></th>\n",
       "    </tr>\n",
       "  </thead>\n",
       "  <tbody>\n",
       "    <tr>\n",
       "      <td>1</td>\n",
       "      <td>4838</td>\n",
       "      <td>383</td>\n",
       "      <td>0.079165</td>\n",
       "    </tr>\n",
       "    <tr>\n",
       "      <td>2</td>\n",
       "      <td>4838</td>\n",
       "      <td>421</td>\n",
       "      <td>0.087019</td>\n",
       "    </tr>\n",
       "    <tr>\n",
       "      <td>3</td>\n",
       "      <td>4837</td>\n",
       "      <td>426</td>\n",
       "      <td>0.088071</td>\n",
       "    </tr>\n",
       "    <tr>\n",
       "      <td>4</td>\n",
       "      <td>4838</td>\n",
       "      <td>341</td>\n",
       "      <td>0.070484</td>\n",
       "    </tr>\n",
       "  </tbody>\n",
       "</table>\n",
       "</div>"
      ],
      "text/plain": [
       "              debt               \n",
       "             count  sum      mean\n",
       "level_income                     \n",
       "1             4838  383  0.079165\n",
       "2             4838  421  0.087019\n",
       "3             4837  426  0.088071\n",
       "4             4838  341  0.070484"
      ]
     },
     "metadata": {},
     "output_type": "display_data"
    },
    {
     "data": {
      "text/html": [
       "<div>\n",
       "<style scoped>\n",
       "    .dataframe tbody tr th:only-of-type {\n",
       "        vertical-align: middle;\n",
       "    }\n",
       "\n",
       "    .dataframe tbody tr th {\n",
       "        vertical-align: top;\n",
       "    }\n",
       "\n",
       "    .dataframe thead tr th {\n",
       "        text-align: left;\n",
       "    }\n",
       "\n",
       "    .dataframe thead tr:last-of-type th {\n",
       "        text-align: right;\n",
       "    }\n",
       "</style>\n",
       "<table border=\"1\" class=\"dataframe\">\n",
       "  <thead>\n",
       "    <tr>\n",
       "      <th></th>\n",
       "      <th colspan=\"3\" halign=\"left\">debt</th>\n",
       "    </tr>\n",
       "    <tr>\n",
       "      <th></th>\n",
       "      <th>count</th>\n",
       "      <th>sum</th>\n",
       "      <th>mean</th>\n",
       "    </tr>\n",
       "    <tr>\n",
       "      <th>purpose_short</th>\n",
       "      <th></th>\n",
       "      <th></th>\n",
       "      <th></th>\n",
       "    </tr>\n",
       "  </thead>\n",
       "  <tbody>\n",
       "    <tr>\n",
       "      <td>автомобиль</td>\n",
       "      <td>3897</td>\n",
       "      <td>367</td>\n",
       "      <td>0.094175</td>\n",
       "    </tr>\n",
       "    <tr>\n",
       "      <td>недвижимость</td>\n",
       "      <td>9216</td>\n",
       "      <td>684</td>\n",
       "      <td>0.074219</td>\n",
       "    </tr>\n",
       "    <tr>\n",
       "      <td>образование</td>\n",
       "      <td>3597</td>\n",
       "      <td>331</td>\n",
       "      <td>0.092021</td>\n",
       "    </tr>\n",
       "    <tr>\n",
       "      <td>ремонт</td>\n",
       "      <td>542</td>\n",
       "      <td>31</td>\n",
       "      <td>0.057196</td>\n",
       "    </tr>\n",
       "    <tr>\n",
       "      <td>свадьба</td>\n",
       "      <td>2099</td>\n",
       "      <td>158</td>\n",
       "      <td>0.075274</td>\n",
       "    </tr>\n",
       "  </tbody>\n",
       "</table>\n",
       "</div>"
      ],
      "text/plain": [
       "               debt               \n",
       "              count  sum      mean\n",
       "purpose_short                     \n",
       "автомобиль     3897  367  0.094175\n",
       "недвижимость   9216  684  0.074219\n",
       "образование    3597  331  0.092021\n",
       "ремонт          542   31  0.057196\n",
       "свадьба        2099  158  0.075274"
      ]
     },
     "metadata": {},
     "output_type": "display_data"
    }
   ],
   "source": [
    "columns = ['gender','children', 'family_status_id','level_income','purpose_short']\n",
    "for column in columns:\n",
    "    display(data.groupby(column).agg({'debt': ['count', 'sum', 'mean']}))"
   ]
  },
  {
   "cell_type": "markdown",
   "metadata": {},
   "source": [
    "Большая разница по просрочкам между мужчинами и женщинами, у женщин средняя просрочка 7%, у мужчин 10,2%. \n",
    "\n",
    "Просрочка у бездетных заемщиков 7,5% (меньше средней по портфелю равной 8%), у заемщиков с одним-двумя детьми - больше 9%, заемщиков с тремя и  более детьми мало, поэтому по ним выводы делать не будем. В целом, можно выдвинуть гипотезу, что заемщики с детьми допускают просрочки чаще. Скорее всего это связано с тем, что при тех же зарплатах у заемщиков с детьми больше расходов, нежели у заемщиков без детей. Плюс у заемщиков с детьми могут чаще возникать непредвиденные расходы.\n",
    "\n",
    "Просрочка у женатых/замужних заемщиков составляет 7,6%. Самые недисциплинированные заемщики это пары, живущие в гражданском браке (просрочка 9,1%), и неженатые/незамужние (просрочка 10,1%). Я бы объяснила это тем, что женатые/замужние чаще ведут общий бюджет, владеют общим имуществом, если сумма кредита была потрачена на семейные нужды, то при просрочке банк может обратиться в суд и потребовать выплаты по кредиту за счет общего имущества супругов, даже если второй супруг не был созаемщиком или поручителем. При этом разведенные и вдовствующие имеют небольшую просрочку от 6,5 до 7%.\n",
    "\n",
    "У заемщиков с доходом более 203 тысяч рублей просрочка составляет 7%, у заемщиков с доходом от 103 до 203 тыс. просрочка 8,7-8,8% (это половина всех заемщиков), у заемщиков с доходом до 103 тысяч просрочка 7,9%. \n",
    "\n",
    "Заемщики, берущие кредит на покупку автомобиля или образование, допускают больше просрочек (более 9%), нежели остальные заемщики. С кредитами на покупку автомобиля надо бы посмотреть, отличается ли уровень просрочки у кредитов с залогом и беззалоговых кредитов. Подозреваю, что заемщики, у которых купленный автомобиль находится в залоге у банка, платят более дисциплинированно.\n",
    "\n",
    "Заемщики, берущие кредит на ремонт, допускают низкую просрочку (5,7%), но их мало, поэтому о них сложно делать выводы.\n",
    "\n",
    "Просрочка кредитов, взятых на свадьбу, составляет 7,5%. Удивительно, что просрочка у свадеб меньше, чем просрочка у кредитов на образование. И там, и там суммы кредитов скорее всего не очень большие (по сравнению с кредитами на автомобили и недвижимость), но тем не менее молодожены платят лучше. Можно это попытаться объяснить там, что молодожены получают подарки на свадьбу деньгами, которые помогают отбить стоимость самой свадьбы. А в случае с образованием возможно заемщики рассчитывают на повышение дохода после получения образования, что может и не происходить или происходить не сразу.\n",
    "\n",
    "По кредитам, взятым на покупку недвижимости, просрочка допускается в 7,4% случаев. Просрочку ниже средней по покупке недвижимости можно объяснить тем, что обычно такие кредиты сопровождаются серьезными залогами (либо это ипотека, либо другой актив в залоге)."
   ]
  },
  {
   "cell_type": "code",
   "execution_count": 26,
   "metadata": {},
   "outputs": [
    {
     "data": {
      "text/html": [
       "<div>\n",
       "<style scoped>\n",
       "    .dataframe tbody tr th:only-of-type {\n",
       "        vertical-align: middle;\n",
       "    }\n",
       "\n",
       "    .dataframe tbody tr th {\n",
       "        vertical-align: top;\n",
       "    }\n",
       "\n",
       "    .dataframe thead tr th {\n",
       "        text-align: left;\n",
       "    }\n",
       "\n",
       "    .dataframe thead tr:last-of-type th {\n",
       "        text-align: right;\n",
       "    }\n",
       "</style>\n",
       "<table border=\"1\" class=\"dataframe\">\n",
       "  <thead>\n",
       "    <tr>\n",
       "      <th></th>\n",
       "      <th></th>\n",
       "      <th colspan=\"3\" halign=\"left\">debt</th>\n",
       "    </tr>\n",
       "    <tr>\n",
       "      <th></th>\n",
       "      <th></th>\n",
       "      <th>count</th>\n",
       "      <th>sum</th>\n",
       "      <th>mean</th>\n",
       "    </tr>\n",
       "    <tr>\n",
       "      <th>gender</th>\n",
       "      <th>children</th>\n",
       "      <th></th>\n",
       "      <th></th>\n",
       "      <th></th>\n",
       "    </tr>\n",
       "  </thead>\n",
       "  <tbody>\n",
       "    <tr>\n",
       "      <td rowspan=\"7\" valign=\"top\">F</td>\n",
       "      <td>0</td>\n",
       "      <td>8569</td>\n",
       "      <td>527</td>\n",
       "      <td>0.061501</td>\n",
       "    </tr>\n",
       "    <tr>\n",
       "      <td>1</td>\n",
       "      <td>2800</td>\n",
       "      <td>226</td>\n",
       "      <td>0.080714</td>\n",
       "    </tr>\n",
       "    <tr>\n",
       "      <td>2</td>\n",
       "      <td>1132</td>\n",
       "      <td>123</td>\n",
       "      <td>0.108657</td>\n",
       "    </tr>\n",
       "    <tr>\n",
       "      <td>3</td>\n",
       "      <td>180</td>\n",
       "      <td>14</td>\n",
       "      <td>0.077778</td>\n",
       "    </tr>\n",
       "    <tr>\n",
       "      <td>4</td>\n",
       "      <td>24</td>\n",
       "      <td>1</td>\n",
       "      <td>0.041667</td>\n",
       "    </tr>\n",
       "    <tr>\n",
       "      <td>5</td>\n",
       "      <td>7</td>\n",
       "      <td>0</td>\n",
       "      <td>0.000000</td>\n",
       "    </tr>\n",
       "    <tr>\n",
       "      <td>20</td>\n",
       "      <td>41</td>\n",
       "      <td>4</td>\n",
       "      <td>0.097561</td>\n",
       "    </tr>\n",
       "    <tr>\n",
       "      <td rowspan=\"7\" valign=\"top\">M</td>\n",
       "      <td>0</td>\n",
       "      <td>4141</td>\n",
       "      <td>425</td>\n",
       "      <td>0.102632</td>\n",
       "    </tr>\n",
       "    <tr>\n",
       "      <td>1</td>\n",
       "      <td>1587</td>\n",
       "      <td>183</td>\n",
       "      <td>0.115312</td>\n",
       "    </tr>\n",
       "    <tr>\n",
       "      <td>2</td>\n",
       "      <td>719</td>\n",
       "      <td>54</td>\n",
       "      <td>0.075104</td>\n",
       "    </tr>\n",
       "    <tr>\n",
       "      <td>3</td>\n",
       "      <td>114</td>\n",
       "      <td>8</td>\n",
       "      <td>0.070175</td>\n",
       "    </tr>\n",
       "    <tr>\n",
       "      <td>4</td>\n",
       "      <td>10</td>\n",
       "      <td>2</td>\n",
       "      <td>0.200000</td>\n",
       "    </tr>\n",
       "    <tr>\n",
       "      <td>5</td>\n",
       "      <td>1</td>\n",
       "      <td>0</td>\n",
       "      <td>0.000000</td>\n",
       "    </tr>\n",
       "    <tr>\n",
       "      <td>20</td>\n",
       "      <td>26</td>\n",
       "      <td>4</td>\n",
       "      <td>0.153846</td>\n",
       "    </tr>\n",
       "  </tbody>\n",
       "</table>\n",
       "</div>"
      ],
      "text/plain": [
       "                 debt               \n",
       "                count  sum      mean\n",
       "gender children                     \n",
       "F      0         8569  527  0.061501\n",
       "       1         2800  226  0.080714\n",
       "       2         1132  123  0.108657\n",
       "       3          180   14  0.077778\n",
       "       4           24    1  0.041667\n",
       "       5            7    0  0.000000\n",
       "       20          41    4  0.097561\n",
       "M      0         4141  425  0.102632\n",
       "       1         1587  183  0.115312\n",
       "       2          719   54  0.075104\n",
       "       3          114    8  0.070175\n",
       "       4           10    2  0.200000\n",
       "       5            1    0  0.000000\n",
       "       20          26    4  0.153846"
      ]
     },
     "metadata": {},
     "output_type": "display_data"
    },
    {
     "data": {
      "text/html": [
       "<div>\n",
       "<style scoped>\n",
       "    .dataframe tbody tr th:only-of-type {\n",
       "        vertical-align: middle;\n",
       "    }\n",
       "\n",
       "    .dataframe tbody tr th {\n",
       "        vertical-align: top;\n",
       "    }\n",
       "\n",
       "    .dataframe thead tr th {\n",
       "        text-align: left;\n",
       "    }\n",
       "\n",
       "    .dataframe thead tr:last-of-type th {\n",
       "        text-align: right;\n",
       "    }\n",
       "</style>\n",
       "<table border=\"1\" class=\"dataframe\">\n",
       "  <thead>\n",
       "    <tr>\n",
       "      <th></th>\n",
       "      <th></th>\n",
       "      <th colspan=\"3\" halign=\"left\">debt</th>\n",
       "    </tr>\n",
       "    <tr>\n",
       "      <th></th>\n",
       "      <th></th>\n",
       "      <th>count</th>\n",
       "      <th>sum</th>\n",
       "      <th>mean</th>\n",
       "    </tr>\n",
       "    <tr>\n",
       "      <th>gender</th>\n",
       "      <th>family_status_id</th>\n",
       "      <th></th>\n",
       "      <th></th>\n",
       "      <th></th>\n",
       "    </tr>\n",
       "  </thead>\n",
       "  <tbody>\n",
       "    <tr>\n",
       "      <td rowspan=\"5\" valign=\"top\">F</td>\n",
       "      <td>0</td>\n",
       "      <td>6995</td>\n",
       "      <td>485</td>\n",
       "      <td>0.069335</td>\n",
       "    </tr>\n",
       "    <tr>\n",
       "      <td>1</td>\n",
       "      <td>2560</td>\n",
       "      <td>205</td>\n",
       "      <td>0.080078</td>\n",
       "    </tr>\n",
       "    <tr>\n",
       "      <td>2</td>\n",
       "      <td>815</td>\n",
       "      <td>46</td>\n",
       "      <td>0.056442</td>\n",
       "    </tr>\n",
       "    <tr>\n",
       "      <td>3</td>\n",
       "      <td>843</td>\n",
       "      <td>54</td>\n",
       "      <td>0.064057</td>\n",
       "    </tr>\n",
       "    <tr>\n",
       "      <td>4</td>\n",
       "      <td>1540</td>\n",
       "      <td>105</td>\n",
       "      <td>0.068182</td>\n",
       "    </tr>\n",
       "    <tr>\n",
       "      <td rowspan=\"5\" valign=\"top\">M</td>\n",
       "      <td>0</td>\n",
       "      <td>4148</td>\n",
       "      <td>361</td>\n",
       "      <td>0.087030</td>\n",
       "    </tr>\n",
       "    <tr>\n",
       "      <td>1</td>\n",
       "      <td>1175</td>\n",
       "      <td>134</td>\n",
       "      <td>0.114043</td>\n",
       "    </tr>\n",
       "    <tr>\n",
       "      <td>2</td>\n",
       "      <td>50</td>\n",
       "      <td>10</td>\n",
       "      <td>0.200000</td>\n",
       "    </tr>\n",
       "    <tr>\n",
       "      <td>3</td>\n",
       "      <td>240</td>\n",
       "      <td>22</td>\n",
       "      <td>0.091667</td>\n",
       "    </tr>\n",
       "    <tr>\n",
       "      <td>4</td>\n",
       "      <td>985</td>\n",
       "      <td>149</td>\n",
       "      <td>0.151269</td>\n",
       "    </tr>\n",
       "  </tbody>\n",
       "</table>\n",
       "</div>"
      ],
      "text/plain": [
       "                         debt               \n",
       "                        count  sum      mean\n",
       "gender family_status_id                     \n",
       "F      0                 6995  485  0.069335\n",
       "       1                 2560  205  0.080078\n",
       "       2                  815   46  0.056442\n",
       "       3                  843   54  0.064057\n",
       "       4                 1540  105  0.068182\n",
       "M      0                 4148  361  0.087030\n",
       "       1                 1175  134  0.114043\n",
       "       2                   50   10  0.200000\n",
       "       3                  240   22  0.091667\n",
       "       4                  985  149  0.151269"
      ]
     },
     "metadata": {},
     "output_type": "display_data"
    },
    {
     "data": {
      "text/html": [
       "<div>\n",
       "<style scoped>\n",
       "    .dataframe tbody tr th:only-of-type {\n",
       "        vertical-align: middle;\n",
       "    }\n",
       "\n",
       "    .dataframe tbody tr th {\n",
       "        vertical-align: top;\n",
       "    }\n",
       "\n",
       "    .dataframe thead tr th {\n",
       "        text-align: left;\n",
       "    }\n",
       "\n",
       "    .dataframe thead tr:last-of-type th {\n",
       "        text-align: right;\n",
       "    }\n",
       "</style>\n",
       "<table border=\"1\" class=\"dataframe\">\n",
       "  <thead>\n",
       "    <tr>\n",
       "      <th></th>\n",
       "      <th></th>\n",
       "      <th colspan=\"3\" halign=\"left\">debt</th>\n",
       "    </tr>\n",
       "    <tr>\n",
       "      <th></th>\n",
       "      <th></th>\n",
       "      <th>count</th>\n",
       "      <th>sum</th>\n",
       "      <th>mean</th>\n",
       "    </tr>\n",
       "    <tr>\n",
       "      <th>gender</th>\n",
       "      <th>level_income</th>\n",
       "      <th></th>\n",
       "      <th></th>\n",
       "      <th></th>\n",
       "    </tr>\n",
       "  </thead>\n",
       "  <tbody>\n",
       "    <tr>\n",
       "      <td rowspan=\"4\" valign=\"top\">F</td>\n",
       "      <td>1</td>\n",
       "      <td>3830</td>\n",
       "      <td>263</td>\n",
       "      <td>0.068668</td>\n",
       "    </tr>\n",
       "    <tr>\n",
       "      <td>2</td>\n",
       "      <td>3391</td>\n",
       "      <td>267</td>\n",
       "      <td>0.078738</td>\n",
       "    </tr>\n",
       "    <tr>\n",
       "      <td>3</td>\n",
       "      <td>2945</td>\n",
       "      <td>208</td>\n",
       "      <td>0.070628</td>\n",
       "    </tr>\n",
       "    <tr>\n",
       "      <td>4</td>\n",
       "      <td>2587</td>\n",
       "      <td>157</td>\n",
       "      <td>0.060688</td>\n",
       "    </tr>\n",
       "    <tr>\n",
       "      <td rowspan=\"4\" valign=\"top\">M</td>\n",
       "      <td>1</td>\n",
       "      <td>1008</td>\n",
       "      <td>120</td>\n",
       "      <td>0.119048</td>\n",
       "    </tr>\n",
       "    <tr>\n",
       "      <td>2</td>\n",
       "      <td>1447</td>\n",
       "      <td>154</td>\n",
       "      <td>0.106427</td>\n",
       "    </tr>\n",
       "    <tr>\n",
       "      <td>3</td>\n",
       "      <td>1892</td>\n",
       "      <td>218</td>\n",
       "      <td>0.115222</td>\n",
       "    </tr>\n",
       "    <tr>\n",
       "      <td>4</td>\n",
       "      <td>2251</td>\n",
       "      <td>184</td>\n",
       "      <td>0.081741</td>\n",
       "    </tr>\n",
       "  </tbody>\n",
       "</table>\n",
       "</div>"
      ],
      "text/plain": [
       "                     debt               \n",
       "                    count  sum      mean\n",
       "gender level_income                     \n",
       "F      1             3830  263  0.068668\n",
       "       2             3391  267  0.078738\n",
       "       3             2945  208  0.070628\n",
       "       4             2587  157  0.060688\n",
       "M      1             1008  120  0.119048\n",
       "       2             1447  154  0.106427\n",
       "       3             1892  218  0.115222\n",
       "       4             2251  184  0.081741"
      ]
     },
     "metadata": {},
     "output_type": "display_data"
    },
    {
     "data": {
      "text/html": [
       "<div>\n",
       "<style scoped>\n",
       "    .dataframe tbody tr th:only-of-type {\n",
       "        vertical-align: middle;\n",
       "    }\n",
       "\n",
       "    .dataframe tbody tr th {\n",
       "        vertical-align: top;\n",
       "    }\n",
       "\n",
       "    .dataframe thead tr th {\n",
       "        text-align: left;\n",
       "    }\n",
       "\n",
       "    .dataframe thead tr:last-of-type th {\n",
       "        text-align: right;\n",
       "    }\n",
       "</style>\n",
       "<table border=\"1\" class=\"dataframe\">\n",
       "  <thead>\n",
       "    <tr>\n",
       "      <th></th>\n",
       "      <th></th>\n",
       "      <th colspan=\"3\" halign=\"left\">debt</th>\n",
       "    </tr>\n",
       "    <tr>\n",
       "      <th></th>\n",
       "      <th></th>\n",
       "      <th>count</th>\n",
       "      <th>sum</th>\n",
       "      <th>mean</th>\n",
       "    </tr>\n",
       "    <tr>\n",
       "      <th>gender</th>\n",
       "      <th>purpose_short</th>\n",
       "      <th></th>\n",
       "      <th></th>\n",
       "      <th></th>\n",
       "    </tr>\n",
       "  </thead>\n",
       "  <tbody>\n",
       "    <tr>\n",
       "      <td rowspan=\"5\" valign=\"top\">F</td>\n",
       "      <td>автомобиль</td>\n",
       "      <td>2573</td>\n",
       "      <td>211</td>\n",
       "      <td>0.082005</td>\n",
       "    </tr>\n",
       "    <tr>\n",
       "      <td>недвижимость</td>\n",
       "      <td>6044</td>\n",
       "      <td>384</td>\n",
       "      <td>0.063534</td>\n",
       "    </tr>\n",
       "    <tr>\n",
       "      <td>образование</td>\n",
       "      <td>2381</td>\n",
       "      <td>186</td>\n",
       "      <td>0.078118</td>\n",
       "    </tr>\n",
       "    <tr>\n",
       "      <td>ремонт</td>\n",
       "      <td>341</td>\n",
       "      <td>20</td>\n",
       "      <td>0.058651</td>\n",
       "    </tr>\n",
       "    <tr>\n",
       "      <td>свадьба</td>\n",
       "      <td>1414</td>\n",
       "      <td>94</td>\n",
       "      <td>0.066478</td>\n",
       "    </tr>\n",
       "    <tr>\n",
       "      <td rowspan=\"5\" valign=\"top\">M</td>\n",
       "      <td>автомобиль</td>\n",
       "      <td>1324</td>\n",
       "      <td>156</td>\n",
       "      <td>0.117825</td>\n",
       "    </tr>\n",
       "    <tr>\n",
       "      <td>недвижимость</td>\n",
       "      <td>3172</td>\n",
       "      <td>300</td>\n",
       "      <td>0.094578</td>\n",
       "    </tr>\n",
       "    <tr>\n",
       "      <td>образование</td>\n",
       "      <td>1216</td>\n",
       "      <td>145</td>\n",
       "      <td>0.119243</td>\n",
       "    </tr>\n",
       "    <tr>\n",
       "      <td>ремонт</td>\n",
       "      <td>201</td>\n",
       "      <td>11</td>\n",
       "      <td>0.054726</td>\n",
       "    </tr>\n",
       "    <tr>\n",
       "      <td>свадьба</td>\n",
       "      <td>685</td>\n",
       "      <td>64</td>\n",
       "      <td>0.093431</td>\n",
       "    </tr>\n",
       "  </tbody>\n",
       "</table>\n",
       "</div>"
      ],
      "text/plain": [
       "                      debt               \n",
       "                     count  sum      mean\n",
       "gender purpose_short                     \n",
       "F      автомобиль     2573  211  0.082005\n",
       "       недвижимость   6044  384  0.063534\n",
       "       образование    2381  186  0.078118\n",
       "       ремонт          341   20  0.058651\n",
       "       свадьба        1414   94  0.066478\n",
       "M      автомобиль     1324  156  0.117825\n",
       "       недвижимость   3172  300  0.094578\n",
       "       образование    1216  145  0.119243\n",
       "       ремонт          201   11  0.054726\n",
       "       свадьба         685   64  0.093431"
      ]
     },
     "metadata": {},
     "output_type": "display_data"
    }
   ],
   "source": [
    "# посмотрим данные о средней просрочке в разбивке по полу заемщика\n",
    "\n",
    "for column in ['children', 'family_status_id','level_income','purpose_short']:\n",
    "    display(data.groupby(['gender', column]).agg({'debt': ['count', 'sum', 'mean']}))"
   ]
  },
  {
   "cell_type": "markdown",
   "metadata": {},
   "source": [
    "У женщин возвратность кредита ухудшают следующие факторы: наличие детей (наличие двух детей ухудшает сильнее, чем наличие одного ребенка), гражданский брак (семейные и незамужние женщины имеют примерно одинаковый уровень просрочки 6,8-6,9%), цель кредита \"автомобиль\" или \"образование\".  \n",
    "\n",
    "У мужчин самые низкие проценты просрочки у женатых (8,7%), имеющих ровно двух детей (7,5%), зарабатывающих более 203 тысяч рублей в месяц (8,2%). Самые высокие проценты просрочки у мужчин, которые неженаты - 15,1%, с целью кредита на \"автомобиль\" или \"образование\" - 11,8-11,9%, зарабатывающих меньше 103 тысяч рублей в месяц - 11,9%. "
   ]
  },
  {
   "cell_type": "markdown",
   "metadata": {},
   "source": [
    "## Вывод"
   ]
  },
  {
   "cell_type": "markdown",
   "metadata": {},
   "source": [
    ">Итого, наибольшая разница по просрочкам наблюдается между мужчинами и женщинами.\n",
    "\n",
    ">Наиболее привлекательными для банка заемщиками являются бездетные женщины, не состоящие в гражданском браке, с целями кредита не \"автомобиль\" и не \"образование\". У женщин-заемщиков гражданский брак, наличие одного ребенка или цели \"автомобиль\"/\"образование\" ухудшают возврат кредита, приближая просрочку к средней по всему портфелю (8%). Наличие двух и более детей у женщин-заемщиков еще больше ухудшает возврат кредита. У женщин-заемщиков с уровнем дохода до 203 тысяч просрочка составляет около 6,9-7,9%, свыше 203 тысяч - 6,1%.\n",
    "\n",
    ">Наиболее рискованными заемщиками являются неженатые мужчины. Их уровень просрочки составляет 15,1%. По заемщикам-мужчинам можно отметить, что существенное улучшение возрата кредита происходит, если мужчина женат, наличие двух детей или наличие ежемесячного дохода более 203 тысяч рублей. Так же можно отметить, что наличие одного ребенка у мужчины отрицательно влияет на возврат кредита. Так же отрицательно влияют на возврат кредита цели \"покупка автомобиля\" или \"получение образования\". "
   ]
  }
 ],
 "metadata": {
  "ExecuteTimeLog": [
   {
    "duration": 136,
    "start_time": "2021-07-11T11:08:50.925Z"
   },
   {
    "duration": 409,
    "start_time": "2021-07-11T11:19:53.665Z"
   },
   {
    "duration": 1445,
    "start_time": "2021-07-11T11:20:03.191Z"
   },
   {
    "duration": 523,
    "start_time": "2021-07-11T11:20:23.039Z"
   },
   {
    "duration": 1045,
    "start_time": "2021-07-11T11:20:34.993Z"
   },
   {
    "duration": 12,
    "start_time": "2021-07-11T11:45:08.099Z"
   },
   {
    "duration": 47,
    "start_time": "2021-07-11T11:45:10.560Z"
   },
   {
    "duration": 26,
    "start_time": "2021-07-11T11:47:58.767Z"
   },
   {
    "duration": 96,
    "start_time": "2021-07-11T11:48:07.762Z"
   },
   {
    "duration": 9,
    "start_time": "2021-07-11T11:48:07.860Z"
   },
   {
    "duration": 54,
    "start_time": "2021-07-11T11:48:07.872Z"
   },
   {
    "duration": 25,
    "start_time": "2021-07-11T11:48:07.929Z"
   },
   {
    "duration": 16,
    "start_time": "2021-07-11T11:52:22.913Z"
   },
   {
    "duration": 43,
    "start_time": "2021-07-11T11:52:26.011Z"
   },
   {
    "duration": 29,
    "start_time": "2021-07-11T11:52:32.010Z"
   },
   {
    "duration": 49,
    "start_time": "2021-07-11T11:53:19.334Z"
   },
   {
    "duration": 50,
    "start_time": "2021-07-11T11:53:34.984Z"
   },
   {
    "duration": 45,
    "start_time": "2021-07-11T11:54:33.293Z"
   },
   {
    "duration": 35,
    "start_time": "2021-07-11T11:59:54.941Z"
   },
   {
    "duration": 97,
    "start_time": "2021-07-11T12:00:07.201Z"
   },
   {
    "duration": 20,
    "start_time": "2021-07-11T12:00:07.302Z"
   },
   {
    "duration": 17,
    "start_time": "2021-07-11T12:00:07.327Z"
   },
   {
    "duration": 59,
    "start_time": "2021-07-11T12:00:07.347Z"
   },
   {
    "duration": 55,
    "start_time": "2021-07-11T12:00:07.409Z"
   },
   {
    "duration": 40,
    "start_time": "2021-07-11T12:00:10.461Z"
   },
   {
    "duration": 19,
    "start_time": "2021-07-11T12:15:19.349Z"
   },
   {
    "duration": 14,
    "start_time": "2021-07-11T12:16:34.045Z"
   },
   {
    "duration": 15,
    "start_time": "2021-07-11T12:16:44.091Z"
   },
   {
    "duration": 19,
    "start_time": "2021-07-11T12:17:08.887Z"
   },
   {
    "duration": 45,
    "start_time": "2021-07-11T12:20:58.323Z"
   },
   {
    "duration": 332,
    "start_time": "2021-07-11T12:24:53.343Z"
   },
   {
    "duration": 12,
    "start_time": "2021-07-11T12:25:37.544Z"
   },
   {
    "duration": 26,
    "start_time": "2021-07-11T12:25:42.085Z"
   },
   {
    "duration": 93,
    "start_time": "2021-07-11T12:26:38.118Z"
   },
   {
    "duration": 11,
    "start_time": "2021-07-11T12:26:38.321Z"
   },
   {
    "duration": 23,
    "start_time": "2021-07-11T12:26:38.338Z"
   },
   {
    "duration": 44,
    "start_time": "2021-07-11T12:26:38.364Z"
   },
   {
    "duration": 73,
    "start_time": "2021-07-11T12:26:38.412Z"
   },
   {
    "duration": 33,
    "start_time": "2021-07-11T12:26:38.489Z"
   },
   {
    "duration": 10,
    "start_time": "2021-07-11T12:26:38.525Z"
   },
   {
    "duration": 76,
    "start_time": "2021-07-11T12:26:38.538Z"
   },
   {
    "duration": 11,
    "start_time": "2021-07-11T12:55:24.298Z"
   },
   {
    "duration": 95,
    "start_time": "2021-07-11T12:57:36.044Z"
   },
   {
    "duration": 10,
    "start_time": "2021-07-11T12:57:36.254Z"
   },
   {
    "duration": 202,
    "start_time": "2021-07-11T12:57:36.271Z"
   },
   {
    "duration": 30,
    "start_time": "2021-07-11T12:57:36.476Z"
   },
   {
    "duration": 50,
    "start_time": "2021-07-11T12:57:36.510Z"
   },
   {
    "duration": 50,
    "start_time": "2021-07-11T12:57:36.564Z"
   },
   {
    "duration": 12,
    "start_time": "2021-07-11T12:57:36.617Z"
   },
   {
    "duration": 81,
    "start_time": "2021-07-11T12:57:36.632Z"
   },
   {
    "duration": 8604,
    "start_time": "2021-07-11T12:57:40.076Z"
   },
   {
    "duration": 19,
    "start_time": "2021-07-11T12:57:56.080Z"
   },
   {
    "duration": 19,
    "start_time": "2021-07-11T12:58:06.533Z"
   },
   {
    "duration": 47,
    "start_time": "2021-07-11T12:58:30.035Z"
   },
   {
    "duration": 52,
    "start_time": "2021-07-11T12:58:40.481Z"
   },
   {
    "duration": 41,
    "start_time": "2021-07-11T12:59:07.320Z"
   },
   {
    "duration": 19,
    "start_time": "2021-07-11T13:17:07.751Z"
   },
   {
    "duration": 21,
    "start_time": "2021-07-11T13:22:55.193Z"
   },
   {
    "duration": 65,
    "start_time": "2021-07-11T13:31:38.924Z"
   },
   {
    "duration": 15,
    "start_time": "2021-07-11T13:33:44.945Z"
   },
   {
    "duration": 29,
    "start_time": "2021-07-11T13:38:18.613Z"
   },
   {
    "duration": 33,
    "start_time": "2021-07-11T13:38:38.023Z"
   },
   {
    "duration": 37,
    "start_time": "2021-07-11T13:42:01.862Z"
   },
   {
    "duration": 11,
    "start_time": "2021-07-11T13:51:53.360Z"
   },
   {
    "duration": 11,
    "start_time": "2021-07-11T13:52:39.875Z"
   },
   {
    "duration": 8,
    "start_time": "2021-07-11T13:54:02.005Z"
   },
   {
    "duration": 16,
    "start_time": "2021-07-11T13:56:54.962Z"
   },
   {
    "duration": 11,
    "start_time": "2021-07-11T13:57:35.147Z"
   },
   {
    "duration": 17,
    "start_time": "2021-07-11T13:58:33.224Z"
   },
   {
    "duration": 15,
    "start_time": "2021-07-11T14:02:41.027Z"
   },
   {
    "duration": 10,
    "start_time": "2021-07-11T14:05:27.823Z"
   },
   {
    "duration": 16,
    "start_time": "2021-07-11T14:06:10.826Z"
   },
   {
    "duration": 10,
    "start_time": "2021-07-11T14:07:05.818Z"
   },
   {
    "duration": 9,
    "start_time": "2021-07-11T14:07:59.293Z"
   },
   {
    "duration": 11,
    "start_time": "2021-07-11T14:10:18.950Z"
   },
   {
    "duration": 30,
    "start_time": "2021-07-11T14:17:35.559Z"
   },
   {
    "duration": 336,
    "start_time": "2021-07-11T14:22:57.985Z"
   },
   {
    "duration": 3134,
    "start_time": "2021-07-11T14:23:08.641Z"
   },
   {
    "duration": 3396,
    "start_time": "2021-07-11T14:30:05.064Z"
   },
   {
    "duration": 24,
    "start_time": "2021-07-11T14:35:08.085Z"
   },
   {
    "duration": 22,
    "start_time": "2021-07-11T14:35:31.319Z"
   },
   {
    "duration": 110793,
    "start_time": "2021-07-11T14:47:39.486Z"
   },
   {
    "duration": 119,
    "start_time": "2021-07-11T14:56:22.852Z"
   },
   {
    "duration": 9432,
    "start_time": "2021-07-11T14:56:31.812Z"
   },
   {
    "duration": 12,
    "start_time": "2021-07-11T14:57:41.179Z"
   },
   {
    "duration": 7750,
    "start_time": "2021-07-11T14:57:48.146Z"
   },
   {
    "duration": 336,
    "start_time": "2021-07-11T14:58:04.535Z"
   },
   {
    "duration": 10,
    "start_time": "2021-07-11T14:58:21.661Z"
   },
   {
    "duration": 9112,
    "start_time": "2021-07-11T14:59:52.427Z"
   },
   {
    "duration": 46,
    "start_time": "2021-07-11T15:00:39.534Z"
   },
   {
    "duration": 101,
    "start_time": "2021-07-11T15:03:00.736Z"
   },
   {
    "duration": 48,
    "start_time": "2021-07-11T15:09:59.908Z"
   },
   {
    "duration": 327,
    "start_time": "2021-07-11T15:14:17.409Z"
   },
   {
    "duration": 78,
    "start_time": "2021-07-11T15:14:31.419Z"
   },
   {
    "duration": 21,
    "start_time": "2021-07-11T15:15:05.033Z"
   },
   {
    "duration": 34,
    "start_time": "2021-07-11T15:19:26.265Z"
   },
   {
    "duration": 81,
    "start_time": "2021-07-11T15:33:14.971Z"
   },
   {
    "duration": 77,
    "start_time": "2021-07-11T15:47:47.985Z"
   },
   {
    "duration": 85,
    "start_time": "2021-07-11T15:49:07.324Z"
   },
   {
    "duration": 899,
    "start_time": "2021-07-11T17:04:42.860Z"
   },
   {
    "duration": 8,
    "start_time": "2021-07-11T17:04:43.762Z"
   },
   {
    "duration": 25,
    "start_time": "2021-07-11T17:04:43.773Z"
   },
   {
    "duration": 31,
    "start_time": "2021-07-11T17:04:43.801Z"
   },
   {
    "duration": 68,
    "start_time": "2021-07-11T17:04:43.834Z"
   },
   {
    "duration": 33,
    "start_time": "2021-07-11T17:04:43.905Z"
   },
   {
    "duration": 13,
    "start_time": "2021-07-11T17:04:43.941Z"
   },
   {
    "duration": 844,
    "start_time": "2021-07-11T17:04:43.986Z"
   },
   {
    "duration": 22,
    "start_time": "2021-07-11T17:04:44.833Z"
   },
   {
    "duration": 62,
    "start_time": "2021-07-11T17:04:44.857Z"
   },
   {
    "duration": 11,
    "start_time": "2021-07-11T17:04:44.922Z"
   },
   {
    "duration": 9,
    "start_time": "2021-07-11T17:04:44.935Z"
   },
   {
    "duration": 40,
    "start_time": "2021-07-11T17:04:44.947Z"
   },
   {
    "duration": 19,
    "start_time": "2021-07-11T17:04:44.989Z"
   },
   {
    "duration": 22,
    "start_time": "2021-07-11T17:04:45.011Z"
   },
   {
    "duration": 16,
    "start_time": "2021-07-11T17:04:45.036Z"
   },
   {
    "duration": 42,
    "start_time": "2021-07-11T17:04:45.054Z"
   },
   {
    "duration": 10,
    "start_time": "2021-07-11T17:04:45.098Z"
   },
   {
    "duration": 17,
    "start_time": "2021-07-11T17:04:45.110Z"
   },
   {
    "duration": 10,
    "start_time": "2021-07-11T17:04:45.130Z"
   },
   {
    "duration": 59,
    "start_time": "2021-07-11T17:04:45.142Z"
   },
   {
    "duration": 3169,
    "start_time": "2021-07-11T17:04:45.203Z"
   },
   {
    "duration": 3272,
    "start_time": "2021-07-11T17:04:48.376Z"
   },
   {
    "duration": 64,
    "start_time": "2021-07-11T17:04:51.651Z"
   },
   {
    "duration": 104,
    "start_time": "2021-07-11T17:04:51.718Z"
   },
   {
    "duration": 103,
    "start_time": "2021-07-11T17:04:51.824Z"
   }
  ],
  "kernelspec": {
   "display_name": "Python 3",
   "language": "python",
   "name": "python3"
  },
  "language_info": {
   "codemirror_mode": {
    "name": "ipython",
    "version": 3
   },
   "file_extension": ".py",
   "mimetype": "text/x-python",
   "name": "python",
   "nbconvert_exporter": "python",
   "pygments_lexer": "ipython3",
   "version": "3.8.5"
  },
  "toc": {
   "base_numbering": 1,
   "nav_menu": {},
   "number_sections": true,
   "sideBar": true,
   "skip_h1_title": false,
   "title_cell": "Table of Contents",
   "title_sidebar": "Contents",
   "toc_cell": false,
   "toc_position": {},
   "toc_section_display": true,
   "toc_window_display": false
  }
 },
 "nbformat": 4,
 "nbformat_minor": 2
}
